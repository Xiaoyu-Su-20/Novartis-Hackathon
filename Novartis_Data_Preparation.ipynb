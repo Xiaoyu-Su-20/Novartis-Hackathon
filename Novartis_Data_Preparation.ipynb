{
  "nbformat": 4,
  "nbformat_minor": 0,
  "metadata": {
    "colab": {
      "name": "Novartis_Data_Preparation.ipynb",
      "provenance": [],
      "collapsed_sections": [],
      "include_colab_link": true
    },
    "kernelspec": {
      "name": "python3",
      "display_name": "Python 3"
    }
  },
  "cells": [
    {
      "cell_type": "markdown",
      "metadata": {
        "id": "view-in-github",
        "colab_type": "text"
      },
      "source": [
        "<a href=\"https://colab.research.google.com/github/Xiaoyu-Su-20/Novartis-Hackathon/blob/main/Novartis_Data_Preparation.ipynb\" target=\"_parent\"><img src=\"https://colab.research.google.com/assets/colab-badge.svg\" alt=\"Open In Colab\"/></a>"
      ]
    },
    {
      "cell_type": "markdown",
      "metadata": {
        "id": "NiC6NyNhO05C"
      },
      "source": [
        "Novartis Hackathon. \n",
        "\n",
        "Novartis Hackathon concerns building model to predict events regarding metastatic breast cancer (MBC) patients. Metastatic breast cancer is breast cancer that has spread to another part of the body, most commonly the liver, brain, bones, or lungs. Nearly 30% of women diagnosed with early-stage breast cancer will develop metastatic disease.\n",
        "\n",
        "In this competition, a primary objective is to predict when an MBC patient would move to a new line of treatment. Specifically, using the data from the first month of a patients treatment, we want to predict when the patient will come back to get a new treatment.\n",
        "\n",
        "The data of this project is stored in several tables and here are their descriptions:\n",
        "\n",
        "DIAG_2l: The Diagnosis information of patients.\n",
        "\n",
        "BS_SN ICD Code: The table that maps diagnosis code to cancer type. (This is used for finding MBC patients.\n",
        "\n",
        "PX: The procedure information of patients.\n",
        "\n",
        "RX: The prescription (e.g drugs) information of patients.\n",
        "\n",
        "Drug_ReferenceReference: Map drug_id to drug_names. \n"
      ]
    },
    {
      "cell_type": "code",
      "metadata": {
        "id": "79O_F4qezDBP",
        "outputId": "2d78843d-9fc5-41f0-f229-b7874debac8a",
        "colab": {
          "base_uri": "https://localhost:8080/",
          "height": 35
        }
      },
      "source": [
        "# necessary imports\n",
        "import numpy as np\n",
        "import pandas as pd\n",
        "import datetime\n",
        "from google.colab import drive\n",
        "drive.mount(\"/content/drive\")"
      ],
      "execution_count": null,
      "outputs": [
        {
          "output_type": "stream",
          "text": [
            "Mounted at /content/drive\n"
          ],
          "name": "stdout"
        }
      ]
    },
    {
      "cell_type": "markdown",
      "metadata": {
        "id": "se-NmT0KVg5I"
      },
      "source": [
        "Since the patients in DIAG_2l Table are not all MBC patients, we have to find MBC Patients first. MBC patients is defiend as the patients who were diagnosed as having BC (breast cancer) and SN (metastasis) diagnosis together. Specifically for this problem, a patient is defined as MBC if SN diagnosis is no earlier than 30 days before the diagnosis of BC.   "
      ]
    },
    {
      "cell_type": "code",
      "metadata": {
        "id": "64Ni1YJmPhuc"
      },
      "source": [
        "BC_SN_Code = pd.read_excel('/content/drive/My Drive/Novartis/BC_SN ICD Code.xlsx',header=0)\n",
        "DIAG2 = pd.read_csv('/content/drive/My Drive/Novartis/DIAG_2l.txt', sep='|',parse_dates=['SERVICE_DATE'])"
      ],
      "execution_count": null,
      "outputs": []
    },
    {
      "cell_type": "code",
      "metadata": {
        "id": "U8DzzgjnPhwz"
      },
      "source": [
        "# join BC_SN_Code and DIAG_df on DIAGNOSIS_CODE\n",
        "DIAG_df = DIAG2.merge(BC_SN_Code, how='left',left_on='DIAGNOSIS_CODE',right_on='diagnosis_cd')\n",
        "del BC_SN_Code"
      ],
      "execution_count": null,
      "outputs": []
    },
    {
      "cell_type": "code",
      "metadata": {
        "id": "wr0zVo0XPh1L"
      },
      "source": [
        "\"\"\"\n",
        "Find MBC patients\n",
        "\"\"\"\n",
        "SN = DIAG_df[DIAG_df['indication_cd']=='SN'].groupby('PATIENT_ID').agg({'SERVICE_DATE': 'min','indication_cd':'min'})\n",
        "SN = SN.rename(columns={'SERVICE_DATE':'SERVICE_DATE_SN'})\n",
        "BC = DIAG_df[DIAG_df['indication_cd']=='BC'].groupby('PATIENT_ID').agg({'SERVICE_DATE': 'min','indication_cd':'min'})\n",
        "BC = BC.rename(columns={'SERVICE_DATE':'SERVICE_DATE_BC'})\n",
        "\n",
        "# merge BC and SN\n",
        "SNBC = BC.merge(SN, how='inner', on='PATIENT_ID').reset_index()"
      ],
      "execution_count": null,
      "outputs": []
    },
    {
      "cell_type": "code",
      "metadata": {
        "id": "JRO0vJ2CPh5d"
      },
      "source": [
        "# compute 30 day diff\n",
        "SNBC['date_diff'] = SNBC['SERVICE_DATE_SN'] - SNBC['SERVICE_DATE_BC']\n",
        "SNBC['date_diff'] = SNBC['date_diff'].apply(lambda x:x.days)\n",
        "\n",
        "# if metastatic diagnose no earlier than 30 days of breast cancer diagnose,\n",
        "# then metastatic breast cancer \n",
        "SNBC = SNBC[SNBC['date_diff'] >= -30]\n",
        "SNBC = SNBC[['PATIENT_ID', 'date_diff']]"
      ],
      "execution_count": null,
      "outputs": []
    },
    {
      "cell_type": "code",
      "metadata": {
        "id": "nG5Cwz2RPiCD"
      },
      "source": [
        "# find MBC patients in DIAG2 can write to a csv file \n",
        "MBC_DIAG = DIAG2.merge(SNBC, how='right', on='PATIENT_ID')\n",
        "\n",
        "MBC_DIAG.to_csv('/content/drive/My Drive/Novartis/MBC_DIAG.csv')"
      ],
      "execution_count": null,
      "outputs": []
    },
    {
      "cell_type": "code",
      "metadata": {
        "id": "GLpMB8onPiGJ",
        "outputId": "49d3d723-f358-47e8-ebd1-41899dd88f7e",
        "colab": {
          "base_uri": "https://localhost:8080/",
          "height": 198
        }
      },
      "source": [
        "# this is the result table \n",
        "pd.read_csv('/content/drive/My Drive/Novartis/MBC_DIAG.csv').head()"
      ],
      "execution_count": null,
      "outputs": [
        {
          "output_type": "execute_result",
          "data": {
            "text/html": [
              "<div>\n",
              "<style scoped>\n",
              "    .dataframe tbody tr th:only-of-type {\n",
              "        vertical-align: middle;\n",
              "    }\n",
              "\n",
              "    .dataframe tbody tr th {\n",
              "        vertical-align: top;\n",
              "    }\n",
              "\n",
              "    .dataframe thead th {\n",
              "        text-align: right;\n",
              "    }\n",
              "</style>\n",
              "<table border=\"1\" class=\"dataframe\">\n",
              "  <thead>\n",
              "    <tr style=\"text-align: right;\">\n",
              "      <th></th>\n",
              "      <th>PATIENT_ID</th>\n",
              "      <th>CLAIM_ID</th>\n",
              "      <th>CLAIM_TYP_CD</th>\n",
              "      <th>SERVICE_DATE</th>\n",
              "      <th>MONTH_ID</th>\n",
              "      <th>DIAGNOSIS_CODE</th>\n",
              "      <th>DIAG_VERS_TYP_ID</th>\n",
              "      <th>DIAG_CD_POSN_NBR</th>\n",
              "      <th>PROVIDER_ID</th>\n",
              "      <th>RESTATE_FLAG</th>\n",
              "      <th>FLEXIBLE_FLD_1_CHAR</th>\n",
              "      <th>FLEXIBLE_FLD_2_CHAR</th>\n",
              "      <th>date_diff</th>\n",
              "    </tr>\n",
              "  </thead>\n",
              "  <tbody>\n",
              "    <tr>\n",
              "      <th>0</th>\n",
              "      <td>29360529</td>\n",
              "      <td>131679393582</td>\n",
              "      <td>P</td>\n",
              "      <td>2016-03-25</td>\n",
              "      <td>201603</td>\n",
              "      <td>C50.419</td>\n",
              "      <td>2</td>\n",
              "      <td>1</td>\n",
              "      <td>7655074</td>\n",
              "      <td>0</td>\n",
              "      <td>1.508863e+09</td>\n",
              "      <td>NaN</td>\n",
              "      <td>1642</td>\n",
              "    </tr>\n",
              "    <tr>\n",
              "      <th>1</th>\n",
              "      <td>29360529</td>\n",
              "      <td>131679228847</td>\n",
              "      <td>P</td>\n",
              "      <td>2016-03-25</td>\n",
              "      <td>201603</td>\n",
              "      <td>C50.419</td>\n",
              "      <td>2</td>\n",
              "      <td>1</td>\n",
              "      <td>7655074</td>\n",
              "      <td>0</td>\n",
              "      <td>1.508863e+09</td>\n",
              "      <td>NaN</td>\n",
              "      <td>1642</td>\n",
              "    </tr>\n",
              "    <tr>\n",
              "      <th>2</th>\n",
              "      <td>29360529</td>\n",
              "      <td>131677762461</td>\n",
              "      <td>P</td>\n",
              "      <td>2016-03-25</td>\n",
              "      <td>201603</td>\n",
              "      <td>C50.419</td>\n",
              "      <td>2</td>\n",
              "      <td>1</td>\n",
              "      <td>7655074</td>\n",
              "      <td>0</td>\n",
              "      <td>1.508863e+09</td>\n",
              "      <td>NaN</td>\n",
              "      <td>1642</td>\n",
              "    </tr>\n",
              "    <tr>\n",
              "      <th>3</th>\n",
              "      <td>29360529</td>\n",
              "      <td>124208425245</td>\n",
              "      <td>P</td>\n",
              "      <td>2015-09-11</td>\n",
              "      <td>201509</td>\n",
              "      <td>174.4</td>\n",
              "      <td>1</td>\n",
              "      <td>1</td>\n",
              "      <td>7655074</td>\n",
              "      <td>0</td>\n",
              "      <td>1.508863e+09</td>\n",
              "      <td>NaN</td>\n",
              "      <td>1642</td>\n",
              "    </tr>\n",
              "    <tr>\n",
              "      <th>4</th>\n",
              "      <td>29360529</td>\n",
              "      <td>124157215617</td>\n",
              "      <td>P</td>\n",
              "      <td>2015-09-11</td>\n",
              "      <td>201509</td>\n",
              "      <td>174.4</td>\n",
              "      <td>1</td>\n",
              "      <td>1</td>\n",
              "      <td>7655074</td>\n",
              "      <td>0</td>\n",
              "      <td>1.508863e+09</td>\n",
              "      <td>NaN</td>\n",
              "      <td>1642</td>\n",
              "    </tr>\n",
              "  </tbody>\n",
              "</table>\n",
              "</div>"
            ],
            "text/plain": [
              "   PATIENT_ID      CLAIM_ID  ... FLEXIBLE_FLD_2_CHAR date_diff\n",
              "0    29360529  131679393582  ...                 NaN      1642\n",
              "1    29360529  131679228847  ...                 NaN      1642\n",
              "2    29360529  131677762461  ...                 NaN      1642\n",
              "3    29360529  124208425245  ...                 NaN      1642\n",
              "4    29360529  124157215617  ...                 NaN      1642\n",
              "\n",
              "[5 rows x 13 columns]"
            ]
          },
          "metadata": {
            "tags": []
          },
          "execution_count": 2
        }
      ]
    },
    {
      "cell_type": "code",
      "metadata": {
        "id": "Rpk65AuIXIwP"
      },
      "source": [
        "# find the list of mbc patients \n",
        "pd.DataFrame(SNBC.PATIENT_ID.nunique()).to_csv('/content/drive/My Drive/Novartis/mbc_patients.csv', index=False)"
      ],
      "execution_count": null,
      "outputs": []
    },
    {
      "cell_type": "markdown",
      "metadata": {
        "id": "woH9ZGvLVkp-"
      },
      "source": [
        "Define Line 1 and Line 2 Therapy starting date. \n",
        "\n",
        "L1_Date is the first service date ever and the L1 period is defined as the first month of the treatment. After this treatment is over, the next service_date is the L2_Date."
      ]
    },
    {
      "cell_type": "code",
      "metadata": {
        "id": "MZSeQQx_Vj8P"
      },
      "source": [
        "# since we dropped the missing data in NDC column, RP2 is not full information for MBC patients;\n",
        "# RP2_full is the full information\n",
        "RP2_full = PX2.append(RX2).drop(['drug_id','DSPNSD_QTY'],axis=1)\n",
        "\n",
        "# choose only the MBC patients\n",
        "RP2_full = RP2_full.merge(MBC_patients, how='right', on='PATIENT_ID')\n",
        "\n",
        "# find unique(patient_id, service_date) pairs\n",
        "RP2_Date = RP2_full[['PATIENT_ID','SERVICE_DATE']].drop_duplicates().sort_values(['PATIENT_ID','SERVICE_DATE'])\n",
        "RP2_Date['SERVICE_DATE'] = pd.to_datetime(RP2_Date['SERVICE_DATE'])\n"
      ],
      "execution_count": null,
      "outputs": []
    },
    {
      "cell_type": "code",
      "metadata": {
        "id": "bicrvsIdV4A3"
      },
      "source": [
        "# method to find L2 \n",
        "def find_second_date(x):\n",
        "  # idk why but Series seem to have some problems\n",
        "  x = list(x)\n",
        "\n",
        "  # x[0] is the first date since x is sorted\n",
        "  first_date = x[0]\n",
        "\n",
        "  # if no second date, return None\n",
        "  if len(x) == 1: return None\n",
        "\n",
        "  for i in range(1, len(x)):\n",
        "    # find the first 30 day gap\n",
        "    if x[i] - first_date >= datetime.timedelta(days=30):\n",
        "      break\n",
        "    # if at the end of the list, return None\n",
        "    if i == len(x) - 1: return None\n",
        "\n",
        "  # don't want the hh:mm:ss part\n",
        "  return x[i].date()"
      ],
      "execution_count": null,
      "outputs": []
    },
    {
      "cell_type": "code",
      "metadata": {
        "id": "fXmXO0lQV62V"
      },
      "source": [
        "# find L1 and L2 Date \n",
        "RP2_L1L2 = RP2_Date.groupby('PATIENT_ID').agg(\n",
        "    L1_DATE=('SERVICE_DATE', 'min'), L2_DATE=('SERVICE_DATE', find_second_date)\n",
        ").reset_index()\n",
        "\n",
        "# dropna if no line 2 therapy\n",
        "RP2_L1L2 = RP2_L1L2[~RP2_L1L2.L2_DATE.isna()]\n",
        "\n",
        "# write the data to csv\n",
        "RP2_L1L2.to_csv('/content/drive/My Drive/Novartis/RP2_L1L2.csv', index=False)"
      ],
      "execution_count": null,
      "outputs": []
    },
    {
      "cell_type": "code",
      "metadata": {
        "id": "uy3_dPFbWCLr",
        "outputId": "c9edabd5-33fa-4e36-b0bc-fb820fb42e74",
        "colab": {
          "base_uri": "https://localhost:8080/",
          "height": 198
        }
      },
      "source": [
        "# here is how the data looks like \n",
        "line = pd.read_csv('/content/drive/My Drive/Novartis/RP2_L1L2.csv', parse_dates= [1,2])\n",
        "line.head()"
      ],
      "execution_count": null,
      "outputs": [
        {
          "output_type": "execute_result",
          "data": {
            "text/html": [
              "<div>\n",
              "<style scoped>\n",
              "    .dataframe tbody tr th:only-of-type {\n",
              "        vertical-align: middle;\n",
              "    }\n",
              "\n",
              "    .dataframe tbody tr th {\n",
              "        vertical-align: top;\n",
              "    }\n",
              "\n",
              "    .dataframe thead th {\n",
              "        text-align: right;\n",
              "    }\n",
              "</style>\n",
              "<table border=\"1\" class=\"dataframe\">\n",
              "  <thead>\n",
              "    <tr style=\"text-align: right;\">\n",
              "      <th></th>\n",
              "      <th>PATIENT_ID</th>\n",
              "      <th>L1_DATE</th>\n",
              "      <th>L2_DATE</th>\n",
              "    </tr>\n",
              "  </thead>\n",
              "  <tbody>\n",
              "    <tr>\n",
              "      <th>0</th>\n",
              "      <td>29360529</td>\n",
              "      <td>2013-09-20</td>\n",
              "      <td>2013-12-17</td>\n",
              "    </tr>\n",
              "    <tr>\n",
              "      <th>1</th>\n",
              "      <td>29425424</td>\n",
              "      <td>2013-09-13</td>\n",
              "      <td>2013-12-10</td>\n",
              "    </tr>\n",
              "    <tr>\n",
              "      <th>2</th>\n",
              "      <td>29494927</td>\n",
              "      <td>2013-09-27</td>\n",
              "      <td>2013-11-25</td>\n",
              "    </tr>\n",
              "    <tr>\n",
              "      <th>3</th>\n",
              "      <td>29531186</td>\n",
              "      <td>2014-06-12</td>\n",
              "      <td>2014-09-30</td>\n",
              "    </tr>\n",
              "    <tr>\n",
              "      <th>4</th>\n",
              "      <td>29537719</td>\n",
              "      <td>2013-09-13</td>\n",
              "      <td>2013-10-24</td>\n",
              "    </tr>\n",
              "  </tbody>\n",
              "</table>\n",
              "</div>"
            ],
            "text/plain": [
              "   PATIENT_ID    L1_DATE    L2_DATE\n",
              "0    29360529 2013-09-20 2013-12-17\n",
              "1    29425424 2013-09-13 2013-12-10\n",
              "2    29494927 2013-09-27 2013-11-25\n",
              "3    29531186 2014-06-12 2014-09-30\n",
              "4    29537719 2013-09-13 2013-10-24"
            ]
          },
          "metadata": {
            "tags": []
          },
          "execution_count": 21
        }
      ]
    },
    {
      "cell_type": "markdown",
      "metadata": {
        "id": "ENubR6SlRutp"
      },
      "source": [
        "Next we are going to find the procedures and prescriptions associated with each MBC patients. The procedures table is PX and the prescription table is RX. The first thing to do is to find all the drugs asscociated with each patients.Using the Drug_Reference table, we can find the drug names and brand. We only want to keep the 10 most prevalent drug brands and assign all the other drugs to OTHERS."
      ]
    },
    {
      "cell_type": "code",
      "metadata": {
        "id": "h_3zNlUrPh80"
      },
      "source": [
        "# load the data, 20 million cols \n",
        "PX = pd.read_csv('/content/drive/My Drive/Novartis/PX.csv', parse_dates=['SERVICE_DATE'])\n",
        "RX = pd.read_csv('/content/drive/My Drive/Novartis/RX_2l.txt', sep='|', parse_dates=['SERVICE_DATE'])"
      ],
      "execution_count": null,
      "outputs": []
    },
    {
      "cell_type": "code",
      "metadata": {
        "id": "xkQtce7kPh3y"
      },
      "source": [
        "# select only the informative columns for PX\n",
        "PX = PX[['PATIENT_ID','SERVICE_DATE','NDC','UNIT_OF_SVC_AMT']]\n",
        "# NDC rename as drug_id\n",
        "PX = PX.rename({'UNIT_OF_SVC_AMT':'DSPNSD_QTY', 'NDC':'drug_id'},axis=1)\n",
        "\n",
        "# select only the informative columns for RX\n",
        "RX = RX[['PATIENT_ID','SERVICE_DATE','NDC','DSPNSD_QTY']]\n",
        "# NDC rename as drug_id\n",
        "RX = RX.rename({'NDC':'drug_id'},axis=1)\n",
        "\n",
        "# filter the ones that does not have a drug_id\n",
        "PX_ndc = PX[~PX.drug_id.isna()]\n",
        "\n",
        "# combine RX and PX\n",
        "RP2 = RX.append(PX_ndc)"
      ],
      "execution_count": null,
      "outputs": []
    },
    {
      "cell_type": "code",
      "metadata": {
        "id": "Od9aP2p7Phz6"
      },
      "source": [
        "# merge with the drug_name table to gain the names of drug\n",
        "RP2 = RP2.merge(Product[['DRUG_NAME','DRUG_GENERIC_NAME']], left_on='drug_id', right_on='NDC', how='inner')"
      ],
      "execution_count": null,
      "outputs": []
    },
    {
      "cell_type": "code",
      "metadata": {
        "id": "IsTR8g4DTWAL"
      },
      "source": [
        "# Branding rules from the Q&A slides\n",
        "def branding_drugs(row):\n",
        "  drug_generic_name = row['DRUG_GENERIC_NAME']\n",
        "  drug_name = row['DRUG_NAME']\n",
        "  if isinstance(drug_generic_name,float):\n",
        "    drug_generic_name = ''\n",
        "  if isinstance(drug_name, float):\n",
        "    drug_name = ''\n",
        "  if 'PALBOCICLIB' in drug_generic_name or 'IBRANCE' in drug_name:\n",
        "    brand = 'IBR'\n",
        "  elif 'FULVESTRANT' in drug_generic_name or 'FASLODEX' in drug_name:\n",
        "    brand = 'FAS'\n",
        "  elif 'RIBOCICLIB' in drug_generic_name or 'KISQALI' in drug_name or 'KISQALI FEMARA' in drug_name or 'RIBOCICLIB SUCCINATE-LETROZOLE' in drug_generic_name:\n",
        "    brand = 'KIS'\n",
        "  elif 'EVEROLIMUS' in drug_generic_name or 'AFINITOR' in drug_name:\n",
        "    brand = 'AFI'\n",
        "  elif 'LETROZOLE' in drug_generic_name or 'FEMARA' in drug_name:\n",
        "    brand = 'LET'\n",
        "  elif 'ABEMACICLIB' in drug_generic_name or 'VERZENIO' in drug_name:\n",
        "    brand = 'VER'\n",
        "  elif 'CHEMO' in drug_generic_name or 'CHEMO' in drug_name:\n",
        "    brand = 'CHEMO'\n",
        "  elif 'CAPECITABINE' in drug_generic_name or 'XELODA' in drug_name:\n",
        "    brand = 'XEL'\n",
        "  elif 'TAMOXIFEN CITRATE' in drug_name:\n",
        "    brand = 'TAM'\n",
        "  elif 'ANASTROZOLE' in drug_generic_name or 'EXEMESTANE' in drug_generic_name or 'ANASTROZOLE' in drug_name or 'ARIMIDEX' in drug_name or 'EXEMESTANE' in drug_name or 'AROMASIN' in drug_name or 'NOLVADEX' in drug_name or 'SOLTAMOX' in drug_name:\n",
        "    brand = 'AI'\n",
        "  else:\n",
        "    brand = 'OTHERS'\n",
        "  return brand"
      ],
      "execution_count": null,
      "outputs": []
    },
    {
      "cell_type": "code",
      "metadata": {
        "id": "tCz0VySyTYUL"
      },
      "source": [
        "# define drug_brand\n",
        "RP2['drug_brand'] = RP2.apply(branding_drugs, axis=1)\n",
        "RP2 = RP2.drop(['DRUG_NAME','DRUG_GENERIC_NAME'],axis=1)\n",
        "# choose only the MBC patients\n",
        "RP2 = RP2.merge(MBC_patients, how='right', on='PATIENT_ID')"
      ],
      "execution_count": null,
      "outputs": []
    },
    {
      "cell_type": "code",
      "metadata": {
        "id": "P9lL_5NSTbgI"
      },
      "source": [
        "# store the table\n",
        "RP2.to_csv('/content/drive/My Drive/Novartis/RP2_drug.csv', index=False)"
      ],
      "execution_count": null,
      "outputs": []
    },
    {
      "cell_type": "code",
      "metadata": {
        "id": "ZGqd820ETnpa",
        "outputId": "b79b296b-aae8-4d58-a16c-7850022bbe5b",
        "colab": {
          "base_uri": "https://localhost:8080/",
          "height": 198
        }
      },
      "source": [
        "# take a look at the data\n",
        "drug = pd.read_csv('/content/drive/My Drive/Novartis/RP2_drug.csv')\n",
        "drug.head()"
      ],
      "execution_count": null,
      "outputs": [
        {
          "output_type": "execute_result",
          "data": {
            "text/html": [
              "<div>\n",
              "<style scoped>\n",
              "    .dataframe tbody tr th:only-of-type {\n",
              "        vertical-align: middle;\n",
              "    }\n",
              "\n",
              "    .dataframe tbody tr th {\n",
              "        vertical-align: top;\n",
              "    }\n",
              "\n",
              "    .dataframe thead th {\n",
              "        text-align: right;\n",
              "    }\n",
              "</style>\n",
              "<table border=\"1\" class=\"dataframe\">\n",
              "  <thead>\n",
              "    <tr style=\"text-align: right;\">\n",
              "      <th></th>\n",
              "      <th>PATIENT_ID</th>\n",
              "      <th>SERVICE_DATE</th>\n",
              "      <th>drug_id</th>\n",
              "      <th>DSPNSD_QTY</th>\n",
              "      <th>drug_brand</th>\n",
              "    </tr>\n",
              "  </thead>\n",
              "  <tbody>\n",
              "    <tr>\n",
              "      <th>0</th>\n",
              "      <td>29360529</td>\n",
              "      <td>2017-01-15 00:00:00</td>\n",
              "      <td>93762056.0</td>\n",
              "      <td>30.0</td>\n",
              "      <td>LET</td>\n",
              "    </tr>\n",
              "    <tr>\n",
              "      <th>1</th>\n",
              "      <td>29360529</td>\n",
              "      <td>2016-12-16 00:00:00</td>\n",
              "      <td>93762056.0</td>\n",
              "      <td>30.0</td>\n",
              "      <td>LET</td>\n",
              "    </tr>\n",
              "    <tr>\n",
              "      <th>2</th>\n",
              "      <td>29360529</td>\n",
              "      <td>2016-11-16 00:00:00</td>\n",
              "      <td>93762056.0</td>\n",
              "      <td>30.0</td>\n",
              "      <td>LET</td>\n",
              "    </tr>\n",
              "    <tr>\n",
              "      <th>3</th>\n",
              "      <td>29360529</td>\n",
              "      <td>2016-10-17 00:00:00</td>\n",
              "      <td>93762056.0</td>\n",
              "      <td>30.0</td>\n",
              "      <td>LET</td>\n",
              "    </tr>\n",
              "    <tr>\n",
              "      <th>4</th>\n",
              "      <td>29360529</td>\n",
              "      <td>2016-09-17 00:00:00</td>\n",
              "      <td>93762056.0</td>\n",
              "      <td>30.0</td>\n",
              "      <td>LET</td>\n",
              "    </tr>\n",
              "  </tbody>\n",
              "</table>\n",
              "</div>"
            ],
            "text/plain": [
              "   PATIENT_ID         SERVICE_DATE     drug_id  DSPNSD_QTY drug_brand\n",
              "0    29360529  2017-01-15 00:00:00  93762056.0        30.0        LET\n",
              "1    29360529  2016-12-16 00:00:00  93762056.0        30.0        LET\n",
              "2    29360529  2016-11-16 00:00:00  93762056.0        30.0        LET\n",
              "3    29360529  2016-10-17 00:00:00  93762056.0        30.0        LET\n",
              "4    29360529  2016-09-17 00:00:00  93762056.0        30.0        LET"
            ]
          },
          "metadata": {
            "tags": []
          },
          "execution_count": 20
        }
      ]
    },
    {
      "cell_type": "markdown",
      "metadata": {
        "id": "t6IregZ6WkdU"
      },
      "source": [
        "Here is a plot of the prevalence of the drug brands."
      ]
    },
    {
      "cell_type": "code",
      "metadata": {
        "id": "86_4ojRRT1Nf",
        "outputId": "cc7c0c3e-6eb2-47c2-fe2d-c98017a91e54",
        "colab": {
          "base_uri": "https://localhost:8080/",
          "height": 335
        }
      },
      "source": [
        "import matplotlib.pyplot as plt\n",
        "import seaborn as sns\n",
        "\n",
        "# count drug instances and plot\n",
        "drug_count = RP2_drug.drug_brand.value_counts().to_frame().reset_index().rename(columns={'index':'drug_brand','drug_brand':'num'}).iloc[1:]\n",
        "\n",
        "fig = plt.figure(figsize=(10,5))\n",
        "fig = sns.barplot(x='drug_brand', y='num',data=drug_count)"
      ],
      "execution_count": null,
      "outputs": [
        {
          "output_type": "display_data",
          "data": {
            "image/png": "[encoded data removed]",
            "text/plain": [
              "<Figure size 720x360 with 1 Axes>"
            ]
          },
          "metadata": {
            "tags": [],
            "needs_background": "light"
          }
        }
      ]
    },
    {
      "cell_type": "markdown",
      "metadata": {
        "id": "kKCVdoGyWLGK"
      },
      "source": [
        "To convert these drugs to features, we are going to aggregate the drugs and their respective quantity for line 1 and line 2 periods."
      ]
    },
    {
      "cell_type": "code",
      "metadata": {
        "id": "G7Zv6QsqWTqB"
      },
      "source": [
        "# read the tables\n",
        "patients = pd.read_csv('/content/drive/My Drive/Novartis/MBC_patients.csv')\n",
        "drug = pd.read_csv('/content/drive/My Drive/Novartis/RP2_drug.csv', parse_dates=['SERVICE_DATE'])\n",
        "line = pd.read_csv('/content/drive/My Drive/Novartis/RP2_L1L2.csv', parse_dates= [1,2])\n",
        "\n",
        "# making sure that we are only including the mbc patients \n",
        "drug = drug.merge(patients, on='PATIENT_ID')\n",
        "\n",
        "line = line.merge(patients, on='PATIENT_ID')\n",
        "\n",
        "# drop if the date is missing \n",
        "drug = drug[~drug.SERVICE_DATE.isna()]"
      ],
      "execution_count": null,
      "outputs": []
    },
    {
      "cell_type": "code",
      "metadata": {
        "id": "q6EtVV7WXx_y"
      },
      "source": [
        "# add the L2_DATE column to differentiate between line1 and line2 drugs\n",
        "drug = drug.merge(line[['PATIENT_ID','L2_DATE']], on='PATIENT_ID')\n",
        "\n",
        "# define a new column signaling line1 and line2 therapy\n",
        "drug['therapy'] = drug['SERVICE_DATE'] < drug['L2_DATE']\n",
        "\n",
        "# assign True (line1) to 1, False (line2) to 2\n",
        "drug.loc[drug['therapy'] == True, 'therapy'] = 1 \n",
        "drug.loc[drug['therapy'] == False, 'therapy'] = 2 "
      ],
      "execution_count": null,
      "outputs": []
    },
    {
      "cell_type": "code",
      "metadata": {
        "id": "Z5HZDCuVYAEs"
      },
      "source": [
        "# count drugs and sum the dosage for line1 and line2 periods\n",
        "count_drug = drug.groupby(['PATIENT_ID', 'therapy','drug_brand']).agg(\n",
        "  count = ('drug_brand','size'),\n",
        "  quantity = ('DSPNSD_QTY','sum')\n",
        ")\n",
        "\n",
        "count_drug = count_drug.reset_index().rename(columns={'count':'num'})"
      ],
      "execution_count": null,
      "outputs": []
    },
    {
      "cell_type": "code",
      "metadata": {
        "id": "4A_LmpN8Ybfc",
        "outputId": "8b82c523-5118-4d8e-bdfa-a87f2451ab32",
        "colab": {
          "base_uri": "https://localhost:8080/",
          "height": 198
        }
      },
      "source": [
        "# take a look at the count_drug table\n",
        "count_drug.head()"
      ],
      "execution_count": null,
      "outputs": [
        {
          "output_type": "execute_result",
          "data": {
            "text/html": [
              "<div>\n",
              "<style scoped>\n",
              "    .dataframe tbody tr th:only-of-type {\n",
              "        vertical-align: middle;\n",
              "    }\n",
              "\n",
              "    .dataframe tbody tr th {\n",
              "        vertical-align: top;\n",
              "    }\n",
              "\n",
              "    .dataframe thead th {\n",
              "        text-align: right;\n",
              "    }\n",
              "</style>\n",
              "<table border=\"1\" class=\"dataframe\">\n",
              "  <thead>\n",
              "    <tr style=\"text-align: right;\">\n",
              "      <th></th>\n",
              "      <th>PATIENT_ID</th>\n",
              "      <th>therapy</th>\n",
              "      <th>drug_brand</th>\n",
              "      <th>num</th>\n",
              "      <th>quantity</th>\n",
              "    </tr>\n",
              "  </thead>\n",
              "  <tbody>\n",
              "    <tr>\n",
              "      <th>0</th>\n",
              "      <td>29360529</td>\n",
              "      <td>1</td>\n",
              "      <td>TAM</td>\n",
              "      <td>1</td>\n",
              "      <td>180.0</td>\n",
              "    </tr>\n",
              "    <tr>\n",
              "      <th>1</th>\n",
              "      <td>29360529</td>\n",
              "      <td>2</td>\n",
              "      <td>IBR</td>\n",
              "      <td>3</td>\n",
              "      <td>63.0</td>\n",
              "    </tr>\n",
              "    <tr>\n",
              "      <th>2</th>\n",
              "      <td>29360529</td>\n",
              "      <td>2</td>\n",
              "      <td>LET</td>\n",
              "      <td>24</td>\n",
              "      <td>1020.0</td>\n",
              "    </tr>\n",
              "    <tr>\n",
              "      <th>3</th>\n",
              "      <td>29360529</td>\n",
              "      <td>2</td>\n",
              "      <td>OTHERS</td>\n",
              "      <td>206</td>\n",
              "      <td>5463.0</td>\n",
              "    </tr>\n",
              "    <tr>\n",
              "      <th>4</th>\n",
              "      <td>29360529</td>\n",
              "      <td>2</td>\n",
              "      <td>TAM</td>\n",
              "      <td>5</td>\n",
              "      <td>900.0</td>\n",
              "    </tr>\n",
              "  </tbody>\n",
              "</table>\n",
              "</div>"
            ],
            "text/plain": [
              "   PATIENT_ID  therapy drug_brand  num  quantity\n",
              "0    29360529        1        TAM    1     180.0\n",
              "1    29360529        2        IBR    3      63.0\n",
              "2    29360529        2        LET   24    1020.0\n",
              "3    29360529        2     OTHERS  206    5463.0\n",
              "4    29360529        2        TAM    5     900.0"
            ]
          },
          "metadata": {
            "tags": []
          },
          "execution_count": 27
        }
      ]
    },
    {
      "cell_type": "markdown",
      "metadata": {
        "id": "PUWZhD0ZYmac"
      },
      "source": [
        "To aggregate the drugs for every patient, create a count dictionary and iterate through every row."
      ]
    },
    {
      "cell_type": "code",
      "metadata": {
        "id": "D97GQvyiYf-9",
        "outputId": "d90a5da1-4c27-41b0-90a1-2bd583d8b13c",
        "colab": {
          "base_uri": "https://localhost:8080/",
          "height": 55
        }
      },
      "source": [
        "# define a patient_drug_dic for storing drugs and their respective count for a particular patient\n",
        "lst = drug.drug_brand.unique().tolist()\n",
        "lst_12 = [i+'_1' for i in lst] + [i+'_2' for i in lst] + [i+'_qty1' for i in lst] +[i+'_qty2' for i in lst]\n",
        "drug_dic = {i:0 for i in lst_12}\n",
        "patient_lst = line.PATIENT_ID.unique().tolist()\n",
        "\n",
        "patient_drug_dic = {i:drug_dic.copy() for i in patient_lst}\n",
        "\n",
        "# as an example \n",
        "print(patient_drug_dic[29360529])"
      ],
      "execution_count": null,
      "outputs": [
        {
          "output_type": "stream",
          "text": [
            "{'LET_1': 0, 'IBR_1': 0, 'XEL_1': 0, 'OTHERS_1': 0, 'TAM_1': 0, 'AFI_1': 0, 'VER_1': 0, 'FAS_1': 0, 'AI_1': 0, 'KIS_1': 0, 'LET_2': 0, 'IBR_2': 0, 'XEL_2': 0, 'OTHERS_2': 0, 'TAM_2': 0, 'AFI_2': 0, 'VER_2': 0, 'FAS_2': 0, 'AI_2': 0, 'KIS_2': 0, 'LET_qty1': 0, 'IBR_qty1': 0, 'XEL_qty1': 0, 'OTHERS_qty1': 0, 'TAM_qty1': 0, 'AFI_qty1': 0, 'VER_qty1': 0, 'FAS_qty1': 0, 'AI_qty1': 0, 'KIS_qty1': 0, 'LET_qty2': 0, 'IBR_qty2': 0, 'XEL_qty2': 0, 'OTHERS_qty2': 0, 'TAM_qty2': 0, 'AFI_qty2': 0, 'VER_qty2': 0, 'FAS_qty2': 0, 'AI_qty2': 0, 'KIS_qty2': 0}\n"
          ],
          "name": "stdout"
        }
      ]
    },
    {
      "cell_type": "code",
      "metadata": {
        "id": "GgrMVJcNY6f_",
        "outputId": "067724f9-c341-4074-9b8c-a276f364b639",
        "colab": {
          "base_uri": "https://localhost:8080/",
          "height": 55
        }
      },
      "source": [
        "# count drug instances \n",
        "for index, row in count_drug.iterrows():\n",
        "  patient = row.PATIENT_ID\n",
        "  drug_name = row.drug_brand\n",
        "  line_therapy = str(row.therapy)\n",
        "  num = row['num']\n",
        "  qty = row.quantity\n",
        "  patient_drug_dic[patient][drug_name + '_' + line_therapy] = num\n",
        "  patient_drug_dic[patient][drug_name + '_qty' + line_therapy] = qty\n",
        "\n",
        "# the results for the same patient \n",
        "print(patient_drug_dic[29360529])"
      ],
      "execution_count": null,
      "outputs": [
        {
          "output_type": "stream",
          "text": [
            "{'LET_1': 0, 'IBR_1': 0, 'XEL_1': 0, 'OTHERS_1': 0, 'TAM_1': 1, 'AFI_1': 0, 'VER_1': 0, 'FAS_1': 0, 'AI_1': 0, 'KIS_1': 0, 'LET_2': 24, 'IBR_2': 3, 'XEL_2': 12, 'OTHERS_2': 206, 'TAM_2': 5, 'AFI_2': 0, 'VER_2': 0, 'FAS_2': 0, 'AI_2': 0, 'KIS_2': 0, 'LET_qty1': 0, 'IBR_qty1': 0, 'XEL_qty1': 0, 'OTHERS_qty1': 0, 'TAM_qty1': 180.0, 'AFI_qty1': 0, 'VER_qty1': 0, 'FAS_qty1': 0, 'AI_qty1': 0, 'KIS_qty1': 0, 'LET_qty2': 1020.0, 'IBR_qty2': 63.0, 'XEL_qty2': 1008.0, 'OTHERS_qty2': 5463.0, 'TAM_qty2': 900.0, 'AFI_qty2': 0, 'VER_qty2': 0, 'FAS_qty2': 0, 'AI_qty2': 0, 'KIS_qty2': 0}\n"
          ],
          "name": "stdout"
        }
      ]
    },
    {
      "cell_type": "code",
      "metadata": {
        "id": "Hr4jAUpSZHxo",
        "outputId": "a224ec89-5b94-4489-b489-ec29dcdc3e01",
        "colab": {
          "base_uri": "https://localhost:8080/",
          "height": 218
        }
      },
      "source": [
        "# transform patient_drug_dic so that it can be converted to a dataframe \n",
        "pd_list = []\n",
        "for key, value in patient_drug_dic.items():\n",
        "  dic = {'PATIENT_ID':key}\n",
        "  dic.update(value)\n",
        "  pd_list.append(dic)\n",
        "\n",
        "del patient_drug_dic\n",
        "\n",
        "drug_aggregated = pd.DataFrame(pd_list)\n",
        "drug_aggregated.head()"
      ],
      "execution_count": null,
      "outputs": [
        {
          "output_type": "execute_result",
          "data": {
            "text/html": [
              "<div>\n",
              "<style scoped>\n",
              "    .dataframe tbody tr th:only-of-type {\n",
              "        vertical-align: middle;\n",
              "    }\n",
              "\n",
              "    .dataframe tbody tr th {\n",
              "        vertical-align: top;\n",
              "    }\n",
              "\n",
              "    .dataframe thead th {\n",
              "        text-align: right;\n",
              "    }\n",
              "</style>\n",
              "<table border=\"1\" class=\"dataframe\">\n",
              "  <thead>\n",
              "    <tr style=\"text-align: right;\">\n",
              "      <th></th>\n",
              "      <th>PATIENT_ID</th>\n",
              "      <th>LET_1</th>\n",
              "      <th>IBR_1</th>\n",
              "      <th>XEL_1</th>\n",
              "      <th>OTHERS_1</th>\n",
              "      <th>TAM_1</th>\n",
              "      <th>AFI_1</th>\n",
              "      <th>VER_1</th>\n",
              "      <th>FAS_1</th>\n",
              "      <th>AI_1</th>\n",
              "      <th>KIS_1</th>\n",
              "      <th>LET_2</th>\n",
              "      <th>IBR_2</th>\n",
              "      <th>XEL_2</th>\n",
              "      <th>OTHERS_2</th>\n",
              "      <th>TAM_2</th>\n",
              "      <th>AFI_2</th>\n",
              "      <th>VER_2</th>\n",
              "      <th>FAS_2</th>\n",
              "      <th>AI_2</th>\n",
              "      <th>KIS_2</th>\n",
              "      <th>LET_qty1</th>\n",
              "      <th>IBR_qty1</th>\n",
              "      <th>XEL_qty1</th>\n",
              "      <th>OTHERS_qty1</th>\n",
              "      <th>TAM_qty1</th>\n",
              "      <th>AFI_qty1</th>\n",
              "      <th>VER_qty1</th>\n",
              "      <th>FAS_qty1</th>\n",
              "      <th>AI_qty1</th>\n",
              "      <th>KIS_qty1</th>\n",
              "      <th>LET_qty2</th>\n",
              "      <th>IBR_qty2</th>\n",
              "      <th>XEL_qty2</th>\n",
              "      <th>OTHERS_qty2</th>\n",
              "      <th>TAM_qty2</th>\n",
              "      <th>AFI_qty2</th>\n",
              "      <th>VER_qty2</th>\n",
              "      <th>FAS_qty2</th>\n",
              "      <th>AI_qty2</th>\n",
              "      <th>KIS_qty2</th>\n",
              "    </tr>\n",
              "  </thead>\n",
              "  <tbody>\n",
              "    <tr>\n",
              "      <th>0</th>\n",
              "      <td>29360529</td>\n",
              "      <td>0</td>\n",
              "      <td>0</td>\n",
              "      <td>0</td>\n",
              "      <td>0</td>\n",
              "      <td>1</td>\n",
              "      <td>0</td>\n",
              "      <td>0</td>\n",
              "      <td>0</td>\n",
              "      <td>0</td>\n",
              "      <td>0</td>\n",
              "      <td>24</td>\n",
              "      <td>3</td>\n",
              "      <td>12</td>\n",
              "      <td>206</td>\n",
              "      <td>5</td>\n",
              "      <td>0</td>\n",
              "      <td>0</td>\n",
              "      <td>0</td>\n",
              "      <td>0</td>\n",
              "      <td>0</td>\n",
              "      <td>0.0</td>\n",
              "      <td>0.0</td>\n",
              "      <td>0.0</td>\n",
              "      <td>0.0</td>\n",
              "      <td>180.0</td>\n",
              "      <td>0.0</td>\n",
              "      <td>0.0</td>\n",
              "      <td>0.0</td>\n",
              "      <td>0.0</td>\n",
              "      <td>0.0</td>\n",
              "      <td>1020.0</td>\n",
              "      <td>63.0</td>\n",
              "      <td>1008.0</td>\n",
              "      <td>5463.0</td>\n",
              "      <td>900.0</td>\n",
              "      <td>0.0</td>\n",
              "      <td>0.0</td>\n",
              "      <td>0.0</td>\n",
              "      <td>0.0</td>\n",
              "      <td>0.0</td>\n",
              "    </tr>\n",
              "    <tr>\n",
              "      <th>1</th>\n",
              "      <td>29425424</td>\n",
              "      <td>0</td>\n",
              "      <td>0</td>\n",
              "      <td>0</td>\n",
              "      <td>0</td>\n",
              "      <td>0</td>\n",
              "      <td>0</td>\n",
              "      <td>0</td>\n",
              "      <td>0</td>\n",
              "      <td>0</td>\n",
              "      <td>0</td>\n",
              "      <td>0</td>\n",
              "      <td>4</td>\n",
              "      <td>0</td>\n",
              "      <td>23</td>\n",
              "      <td>0</td>\n",
              "      <td>3</td>\n",
              "      <td>22</td>\n",
              "      <td>21</td>\n",
              "      <td>21</td>\n",
              "      <td>0</td>\n",
              "      <td>0.0</td>\n",
              "      <td>0.0</td>\n",
              "      <td>0.0</td>\n",
              "      <td>0.0</td>\n",
              "      <td>0.0</td>\n",
              "      <td>0.0</td>\n",
              "      <td>0.0</td>\n",
              "      <td>0.0</td>\n",
              "      <td>0.0</td>\n",
              "      <td>0.0</td>\n",
              "      <td>0.0</td>\n",
              "      <td>84.0</td>\n",
              "      <td>0.0</td>\n",
              "      <td>2753.0</td>\n",
              "      <td>0.0</td>\n",
              "      <td>84.0</td>\n",
              "      <td>1232.0</td>\n",
              "      <td>420.0</td>\n",
              "      <td>1048.0</td>\n",
              "      <td>0.0</td>\n",
              "    </tr>\n",
              "    <tr>\n",
              "      <th>2</th>\n",
              "      <td>29494927</td>\n",
              "      <td>0</td>\n",
              "      <td>0</td>\n",
              "      <td>0</td>\n",
              "      <td>4</td>\n",
              "      <td>0</td>\n",
              "      <td>0</td>\n",
              "      <td>0</td>\n",
              "      <td>0</td>\n",
              "      <td>0</td>\n",
              "      <td>0</td>\n",
              "      <td>0</td>\n",
              "      <td>0</td>\n",
              "      <td>0</td>\n",
              "      <td>378</td>\n",
              "      <td>0</td>\n",
              "      <td>0</td>\n",
              "      <td>0</td>\n",
              "      <td>0</td>\n",
              "      <td>3</td>\n",
              "      <td>0</td>\n",
              "      <td>0.0</td>\n",
              "      <td>0.0</td>\n",
              "      <td>0.0</td>\n",
              "      <td>270.0</td>\n",
              "      <td>0.0</td>\n",
              "      <td>0.0</td>\n",
              "      <td>0.0</td>\n",
              "      <td>0.0</td>\n",
              "      <td>0.0</td>\n",
              "      <td>0.0</td>\n",
              "      <td>0.0</td>\n",
              "      <td>0.0</td>\n",
              "      <td>0.0</td>\n",
              "      <td>24975.0</td>\n",
              "      <td>0.0</td>\n",
              "      <td>0.0</td>\n",
              "      <td>0.0</td>\n",
              "      <td>0.0</td>\n",
              "      <td>270.0</td>\n",
              "      <td>0.0</td>\n",
              "    </tr>\n",
              "    <tr>\n",
              "      <th>3</th>\n",
              "      <td>29531186</td>\n",
              "      <td>0</td>\n",
              "      <td>0</td>\n",
              "      <td>0</td>\n",
              "      <td>0</td>\n",
              "      <td>0</td>\n",
              "      <td>0</td>\n",
              "      <td>0</td>\n",
              "      <td>0</td>\n",
              "      <td>0</td>\n",
              "      <td>0</td>\n",
              "      <td>3</td>\n",
              "      <td>0</td>\n",
              "      <td>0</td>\n",
              "      <td>291</td>\n",
              "      <td>0</td>\n",
              "      <td>0</td>\n",
              "      <td>0</td>\n",
              "      <td>0</td>\n",
              "      <td>0</td>\n",
              "      <td>0</td>\n",
              "      <td>0.0</td>\n",
              "      <td>0.0</td>\n",
              "      <td>0.0</td>\n",
              "      <td>0.0</td>\n",
              "      <td>0.0</td>\n",
              "      <td>0.0</td>\n",
              "      <td>0.0</td>\n",
              "      <td>0.0</td>\n",
              "      <td>0.0</td>\n",
              "      <td>0.0</td>\n",
              "      <td>150.0</td>\n",
              "      <td>0.0</td>\n",
              "      <td>0.0</td>\n",
              "      <td>16289.0</td>\n",
              "      <td>0.0</td>\n",
              "      <td>0.0</td>\n",
              "      <td>0.0</td>\n",
              "      <td>0.0</td>\n",
              "      <td>0.0</td>\n",
              "      <td>0.0</td>\n",
              "    </tr>\n",
              "    <tr>\n",
              "      <th>4</th>\n",
              "      <td>29537719</td>\n",
              "      <td>0</td>\n",
              "      <td>0</td>\n",
              "      <td>0</td>\n",
              "      <td>0</td>\n",
              "      <td>0</td>\n",
              "      <td>0</td>\n",
              "      <td>0</td>\n",
              "      <td>0</td>\n",
              "      <td>1</td>\n",
              "      <td>0</td>\n",
              "      <td>0</td>\n",
              "      <td>0</td>\n",
              "      <td>6</td>\n",
              "      <td>615</td>\n",
              "      <td>0</td>\n",
              "      <td>11</td>\n",
              "      <td>0</td>\n",
              "      <td>42</td>\n",
              "      <td>41</td>\n",
              "      <td>0</td>\n",
              "      <td>0.0</td>\n",
              "      <td>0.0</td>\n",
              "      <td>0.0</td>\n",
              "      <td>0.0</td>\n",
              "      <td>0.0</td>\n",
              "      <td>0.0</td>\n",
              "      <td>0.0</td>\n",
              "      <td>0.0</td>\n",
              "      <td>30.0</td>\n",
              "      <td>0.0</td>\n",
              "      <td>0.0</td>\n",
              "      <td>0.0</td>\n",
              "      <td>504.0</td>\n",
              "      <td>24375.0</td>\n",
              "      <td>0.0</td>\n",
              "      <td>308.0</td>\n",
              "      <td>0.0</td>\n",
              "      <td>732.0</td>\n",
              "      <td>1516.0</td>\n",
              "      <td>0.0</td>\n",
              "    </tr>\n",
              "  </tbody>\n",
              "</table>\n",
              "</div>"
            ],
            "text/plain": [
              "   PATIENT_ID  LET_1  IBR_1  XEL_1  ...  VER_qty2  FAS_qty2  AI_qty2  KIS_qty2\n",
              "0    29360529      0      0      0  ...       0.0       0.0      0.0       0.0\n",
              "1    29425424      0      0      0  ...    1232.0     420.0   1048.0       0.0\n",
              "2    29494927      0      0      0  ...       0.0       0.0    270.0       0.0\n",
              "3    29531186      0      0      0  ...       0.0       0.0      0.0       0.0\n",
              "4    29537719      0      0      0  ...       0.0     732.0   1516.0       0.0\n",
              "\n",
              "[5 rows x 41 columns]"
            ]
          },
          "metadata": {
            "tags": []
          },
          "execution_count": 37
        }
      ]
    },
    {
      "cell_type": "code",
      "metadata": {
        "id": "046yipknZI1e"
      },
      "source": [
        "# write drug_encoded to a csv file \n",
        "drug_aggregated.to_csv('/content/drive/My Drive/Novartis/drug_aggregated.csv', index=False)"
      ],
      "execution_count": null,
      "outputs": []
    },
    {
      "cell_type": "markdown",
      "metadata": {
        "id": "egtQGp6OVRt-"
      },
      "source": [
        "Next we are going to collect information from the procedures exclusively in the PX table."
      ]
    },
    {
      "cell_type": "code",
      "metadata": {
        "id": "9jexwZEvOo7l"
      },
      "source": [
        "# count the procedure in L1 ad L2 and select top 300 \n",
        "procedure_lst = PX.PROCEDURE_CODE.value_counts().head(300).index.tolist()\n",
        "\n",
        "# make a dictionary to count for every patient \n",
        "procedure_12 = [i+'_1' for i in procedure_lst] + [i+'_2' for i in procedure_lst]\n",
        "procedure_dic = {i:0 for i in procedure_12}\n",
        "patient_lst = line.PATIENT_ID.unique().tolist()\n",
        "\n",
        "patient_procedure_dic = {i:procedure_dic.copy() for i in patient_lst}"
      ],
      "execution_count": null,
      "outputs": []
    },
    {
      "cell_type": "code",
      "metadata": {
        "id": "_-qhA2BXPoIm"
      },
      "source": [
        "PX = PX[['PATIENT_ID', 'PROCEDURE_CODE', 'SERVICE_DATE']]\n",
        "PX = PX.merge(line[['PATIENT_ID','L2_DATE']], on='PATIENT_ID')"
      ],
      "execution_count": null,
      "outputs": []
    },
    {
      "cell_type": "code",
      "metadata": {
        "id": "z5TzUHDSSMIH"
      },
      "source": [
        "# return True if L1\n",
        "PX['line1'] = PX['SERVICE_DATE'] < PX['L2_DATE']\n",
        "\n",
        "# assign True to 1, False to 2\n",
        "PX.loc[PX['line1'] == True, 'line1'] = 1 \n",
        "PX.loc[PX['line1'] == False, 'line1'] = 2 "
      ],
      "execution_count": null,
      "outputs": []
    },
    {
      "cell_type": "code",
      "metadata": {
        "id": "1GWIBdZORWNh"
      },
      "source": [
        "# count procedure for line1 and line2 periods for every patients\n",
        "count_procedure = PX.groupby(['PATIENT_ID', 'line1','PROCEDURE_CODE']).agg(\n",
        "  count = ('PROCEDURE_CODE','size')\n",
        ")\n",
        "\n",
        "count_procedure = count_procedure.reset_index().rename(columns={'count':'num'})\n",
        "\n",
        "# remove PX table\n",
        "del PX"
      ],
      "execution_count": null,
      "outputs": []
    },
    {
      "cell_type": "code",
      "metadata": {
        "id": "ItGxgtXlTrSU",
        "outputId": "1169f94a-f941-4cb5-bce7-1bd6363b7e45",
        "colab": {
          "base_uri": "https://localhost:8080/",
          "height": 198
        }
      },
      "source": [
        "count_procedure.head()"
      ],
      "execution_count": null,
      "outputs": [
        {
          "output_type": "execute_result",
          "data": {
            "text/html": [
              "<div>\n",
              "<style scoped>\n",
              "    .dataframe tbody tr th:only-of-type {\n",
              "        vertical-align: middle;\n",
              "    }\n",
              "\n",
              "    .dataframe tbody tr th {\n",
              "        vertical-align: top;\n",
              "    }\n",
              "\n",
              "    .dataframe thead th {\n",
              "        text-align: right;\n",
              "    }\n",
              "</style>\n",
              "<table border=\"1\" class=\"dataframe\">\n",
              "  <thead>\n",
              "    <tr style=\"text-align: right;\">\n",
              "      <th></th>\n",
              "      <th>PATIENT_ID</th>\n",
              "      <th>line1</th>\n",
              "      <th>PROCEDURE_CODE</th>\n",
              "      <th>num</th>\n",
              "    </tr>\n",
              "  </thead>\n",
              "  <tbody>\n",
              "    <tr>\n",
              "      <th>0</th>\n",
              "      <td>29360529</td>\n",
              "      <td>1</td>\n",
              "      <td>36415</td>\n",
              "      <td>2</td>\n",
              "    </tr>\n",
              "    <tr>\n",
              "      <th>1</th>\n",
              "      <td>29360529</td>\n",
              "      <td>1</td>\n",
              "      <td>85025</td>\n",
              "      <td>2</td>\n",
              "    </tr>\n",
              "    <tr>\n",
              "      <th>2</th>\n",
              "      <td>29360529</td>\n",
              "      <td>1</td>\n",
              "      <td>96523</td>\n",
              "      <td>2</td>\n",
              "    </tr>\n",
              "    <tr>\n",
              "      <th>3</th>\n",
              "      <td>29360529</td>\n",
              "      <td>1</td>\n",
              "      <td>99214</td>\n",
              "      <td>2</td>\n",
              "    </tr>\n",
              "    <tr>\n",
              "      <th>4</th>\n",
              "      <td>29360529</td>\n",
              "      <td>2</td>\n",
              "      <td>00402</td>\n",
              "      <td>2</td>\n",
              "    </tr>\n",
              "  </tbody>\n",
              "</table>\n",
              "</div>"
            ],
            "text/plain": [
              "   PATIENT_ID  line1 PROCEDURE_CODE  num\n",
              "0    29360529      1          36415    2\n",
              "1    29360529      1          85025    2\n",
              "2    29360529      1          96523    2\n",
              "3    29360529      1          99214    2\n",
              "4    29360529      2          00402    2"
            ]
          },
          "metadata": {
            "tags": []
          },
          "execution_count": 45
        }
      ]
    },
    {
      "cell_type": "code",
      "metadata": {
        "id": "yIoJbFnYQpf7"
      },
      "source": [
        "# count procedure instances \n",
        "procedure_set = set(procedure_lst)\n",
        "\n",
        "for index, row in count_procedure.iterrows():\n",
        "  procedure = row.PROCEDURE_CODE\n",
        "\n",
        "  # if not top 20, skip\n",
        "  if procedure not in procedure_set:\n",
        "    continue  \n",
        "\n",
        "  # otherwise, add count to the dictionary\n",
        "  patient = row.PATIENT_ID\n",
        "  line_therapy = '_' + str(row.line1)\n",
        "  num = row['num']\n",
        "  patient_procedure_dic[patient][procedure + line_therapy] = num"
      ],
      "execution_count": null,
      "outputs": []
    },
    {
      "cell_type": "code",
      "metadata": {
        "id": "M0Xh2Fo3UwdL",
        "outputId": "54d37984-748a-4d1b-d193-c70fe6a6d737",
        "colab": {
          "base_uri": "https://localhost:8080/",
          "height": 55
        }
      },
      "source": [
        "print(patient_procedure_dic[29360529])"
      ],
      "execution_count": null,
      "outputs": [
        {
          "output_type": "stream",
          "text": [
            "{'85025_1': 2, '80053_1': 0, '99214_1': 2, '96413_1': 0, '36415_1': 2, 'J1100_1': 0, 'J9395_1': 0, '96402_1': 0, '86300_1': 0, '96375_1': 0, '96372_1': 0, '99213_1': 0, '77412_1': 0, '96367_1': 0, 'J0897_1': 0, 'J9267_1': 0, '99215_1': 0, 'J1200_1': 0, '96365_1': 0, 'G0463_1': 0, 'J7050_1': 0, 'J9070_1': 0, 'J1642_1': 0, 'J2405_1': 0, '82378_1': 0, 'J2469_1': 0, 'J3489_1': 0, '71260_1': 0, '36591_1': 0, '77336_1': 0, 'J9000_1': 0, '96411_1': 0, '83735_1': 0, '74177_1': 0, '96417_1': 0, 'J2505_1': 0, 'J1626_1': 0, '83615_1': 0, '77387_1': 0, 'J9264_1': 0, 'J3490_1': 0, '96401_1': 0, '77427_1': 0, '78815_1': 0, '99211_1': 0, '96409_1': 0, '77334_1': 0, 'G6002_1': 0, 'Q9967_1': 0, '85027_1': 0, '96415_1': 0, 'J1453_1': 0, 'J7040_1': 0, 'G9678_1': 0, '80048_1': 0, '84100_1': 0, 'J9171_1': 0, 'G6013_1': 0, '88305_1': 0, '78306_1': 0, 'A9552_1': 0, '77417_1': 0, '77014_1': 0, 'J9179_1': 0, 'J9202_1': 0, 'J7030_1': 0, 'J9201_1': 0, '96361_1': 0, '99212_1': 0, 'G0299_1': 0, '77300_1': 0, 'J9355_1': 0, '97140_1': 0, '88342_1': 0, '77385_1': 0, '88307_1': 0, 'J3010_1': 0, '82565_1': 0, '77290_1': 0, 'G6012_1': 0, '80076_1': 0, '96377_1': 0, '88360_1': 0, '77280_1': 0, 'Q5101_1': 0, '97110_1': 0, '85007_1': 0, '99232_1': 0, '96523_1': 2, '85610_1': 0, 'J2250_1': 0, 'J8540_1': 0, 'J9217_1': 0, 'J0690_1': 0, 'S0028_1': 0, 'J9045_1': 0, '96366_1': 0, '99205_1': 0, 'A9503_1': 0, '96374_1': 0, 'J1170_1': 0, '84550_1': 0, '82306_1': 0, 'J1442_1': 0, '77295_1': 0, 'J9390_1': 0, 'J2270_1': 0, '82728_1': 0, '88341_1': 0, 'J2780_1': 0, '83540_1': 0, 'G0151_1': 0, '99233_1': 0, '84443_1': 0, 'G6015_1': 0, '77263_1': 0, '36561_1': 0, '83550_1': 0, '96360_1': 0, 'J2704_1': 0, 'J1447_1': 0, '99204_1': 0, 'A9270_1': 0, 'J2060_1': 0, '82310_1': 0, 'J7060_1': 0, '70553_1': 0, '93005_1': 0, '84520_1': 0, '77414_1': 0, 'J9306_1': 0, '77001_1': 0, 'J1950_1': 0, '85730_1': 0, '38525_1': 0, '82607_1': 0, '93306_1': 0, 'G0300_1': 0, 'J9190_1': 0, '96368_1': 0, 'J0885_1': 0, 'G8427_1': 0, '82962_1': 0, 'J7120_1': 0, 'J1644_1': 0, '77413_1': 0, 'G0156_1': 0, '82248_1': 0, '71250_1': 0, '76642_1': 0, 'J9265_1': 0, '81001_1': 0, '77386_1': 0, '82247_1': 0, '88331_1': 0, '19307_1': 0, '88361_1': 0, 'A9585_1': 0, 'J2997_1': 0, '19303_1': 0, '84075_1': 0, 'Q2050_1': 0, '1036F_1': 0, '80061_1': 0, '84450_1': 0, '80051_1': 0, 'A4212_1': 0, '38900_1': 0, '71046_1': 0, '86900_1': 0, 'Q0162_1': 0, '36593_1': 0, '19083_1': 0, '86901_1': 0, '82746_1': 0, '84460_1': 0, 'J2001_1': 0, '19301_1': 0, 'J0881_1': 0, '99203_1': 0, '71020_1': 0, '99223_1': 0, '77065_1': 0, 'C1788_1': 0, 'J3420_1': 0, '38792_1': 0, '76937_1': 0, 'T1019_1': 0, '99285_1': 0, '77307_1': 0, '77059_1': 0, '86850_1': 0, '83036_1': 0, '84439_1': 0, '97530_1': 0, 'J2930_1': 0, '99000_1': 0, '36416_1': 0, '76098_1': 0, 'G0152_1': 0, 'G0157_1': 0, 'Q4081_1': 0, 'Q5001_1': 0, '99245_1': 0, '82947_1': 0, '86304_1': 0, '77332_1': 0, 'G0378_1': 0, '97535_1': 0, '82670_1': 0, 'L8000_1': 0, '88309_1': 0, 'G9637_1': 0, 'J0185_1': 0, 'J1885_1': 0, '77470_1': 0, '84703_1': 0, '71045_1': 0, 'A9541_1': 0, 'S5000_1': 0, 'J9250_1': 0, 'G6017_1': 0, '88377_1': 0, '76942_1': 0, '77421_1': 0, '01610_1': 0, '77080_1': 0, '81025_1': 0, '77331_1': 0, '87086_1': 0, '77338_1': 0, '74176_1': 0, 'S9123_1': 0, '81003_1': 0, '77012_1': 0, '36590_1': 0, 'NONE_1': 0, '94760_1': 0, '83001_1': 0, 'G0206_1': 0, '77301_1': 0, '72158_1': 0, '82040_1': 0, '72157_1': 0, '88321_1': 0, 'J3475_1': 0, '99152_1': 0, 'J0131_1': 0, 'A4216_1': 0, 'J1030_1': 0, 'A9561_1': 0, '82948_1': 0, '78195_1': 0, 'J2370_1': 0, '00532_1': 0, '36430_1': 0, '82977_1': 0, '19357_1': 0, '80047_1': 0, '84484_1': 0, 'A9579_1': 0, '0159T_1': 0, '96549_1': 0, 'J3480_1': 0, '88173_1': 0, '99284_1': 0, '99244_1': 0, '71010_1': 0, '88374_1': 0, 'A4648_1': 0, '77066_1': 0, 'A9577_1': 0, '77373_1': 0, '77418_1': 0, 'J9022_1': 0, 'J9035_1': 0, 'J2430_1': 0, '99231_1': 0, 'J9354_1': 0, '38505_1': 0, '84132_1': 0, 'G0154_1': 0, 'Q9968_1': 0, '97112_1': 0, '88333_1': 0, '93010_1': 0, '74178_1': 0, '96376_1': 0, '00400_1': 0, '87040_1': 0, 'G0008_1': 0, 'J0330_1': 0, 'G9557_1': 0, 'A9575_1': 0, 'J1040_1': 0, 'G0279_1': 0, '99222_1': 0, '99153_1': 0, '77051_1': 0, 'P9016_1': 0, '85025_2': 57, '80053_2': 58, '99214_2': 65, '96413_2': 68, '36415_2': 24, 'J1100_2': 64, 'J9395_2': 9, '96402_2': 9, '86300_2': 29, '96375_2': 31, '96372_2': 0, '99213_2': 1, '77412_2': 15, '96367_2': 49, 'J0897_2': 0, 'J9267_2': 0, '99215_2': 1, 'J1200_2': 49, '96365_2': 45, 'G0463_2': 0, 'J7050_2': 0, 'J9070_2': 0, 'J1642_2': 0, 'J2405_2': 0, '82378_2': 0, 'J2469_2': 0, 'J3489_2': 55, '71260_2': 6, '36591_2': 0, '77336_2': 3, 'J9000_2': 0, '96411_2': 0, '83735_2': 0, '74177_2': 5, '96417_2': 0, 'J2505_2': 0, 'J1626_2': 0, '83615_2': 0, '77387_2': 0, 'J9264_2': 68, 'J3490_2': 49, '96401_2': 0, '77427_2': 3, '78815_2': 0, '99211_2': 0, '96409_2': 0, '77334_2': 2, 'G6002_2': 0, 'Q9967_2': 6, '85027_2': 3, '96415_2': 0, 'J1453_2': 0, 'J7040_2': 0, 'G9678_2': 0, '80048_2': 0, '84100_2': 0, 'J9171_2': 0, 'G6013_2': 0, '88305_2': 0, '78306_2': 0, 'A9552_2': 0, '77417_2': 3, '77014_2': 0, 'J9179_2': 0, 'J9202_2': 0, 'J7030_2': 0, 'J9201_2': 0, '96361_2': 0, '99212_2': 0, 'G0299_2': 0, '77300_2': 1, 'J9355_2': 0, '97140_2': 0, '88342_2': 0, '77385_2': 0, '88307_2': 0, 'J3010_2': 0, '82565_2': 11, '77290_2': 1, 'G6012_2': 0, '80076_2': 0, '96377_2': 0, '88360_2': 1, '77280_2': 1, 'Q5101_2': 0, '97110_2': 0, '85007_2': 3, '99232_2': 0, '96523_2': 2, '85610_2': 0, 'J2250_2': 0, 'J8540_2': 0, 'J9217_2': 0, 'J0690_2': 0, 'S0028_2': 0, 'J9045_2': 0, '96366_2': 0, '99205_2': 0, 'A9503_2': 0, '96374_2': 3, 'J1170_2': 0, '84550_2': 0, '82306_2': 0, 'J1442_2': 0, '77295_2': 1, 'J9390_2': 0, 'J2270_2': 0, '82728_2': 0, '88341_2': 0, 'J2780_2': 0, '83540_2': 0, 'G0151_2': 0, '99233_2': 0, '84443_2': 0, 'G6015_2': 0, '77263_2': 1, '36561_2': 0, '83550_2': 0, '96360_2': 0, 'J2704_2': 0, 'J1447_2': 0, '99204_2': 0, 'A9270_2': 0, 'J2060_2': 0, '82310_2': 0, 'J7060_2': 0, '70553_2': 0, '93005_2': 0, '84520_2': 11, '77414_2': 0, 'J9306_2': 0, '77001_2': 0, 'J1950_2': 0, '85730_2': 0, '38525_2': 0, '82607_2': 0, '93306_2': 0, 'G0300_2': 0, 'J9190_2': 0, '96368_2': 3, 'J0885_2': 0, 'G8427_2': 0, '82962_2': 0, 'J7120_2': 0, 'J1644_2': 0, '77413_2': 0, 'G0156_2': 0, '82248_2': 0, '71250_2': 2, '76642_2': 0, 'J9265_2': 0, '81001_2': 0, '77386_2': 0, '82247_2': 0, '88331_2': 0, '19307_2': 0, '88361_2': 0, 'A9585_2': 0, 'J2997_2': 0, '19303_2': 0, '84075_2': 0, 'Q2050_2': 0, '1036F_2': 0, '80061_2': 0, '84450_2': 0, '80051_2': 0, 'A4212_2': 0, '38900_2': 0, '71046_2': 0, '86900_2': 0, 'Q0162_2': 0, '36593_2': 0, '19083_2': 0, '86901_2': 0, '82746_2': 0, '84460_2': 0, 'J2001_2': 0, '19301_2': 0, 'J0881_2': 0, '99203_2': 0, '71020_2': 0, '99223_2': 0, '77065_2': 0, 'C1788_2': 0, 'J3420_2': 0, '38792_2': 0, '76937_2': 0, 'T1019_2': 0, '99285_2': 0, '77307_2': 0, '77059_2': 0, '86850_2': 0, '83036_2': 0, '84439_2': 0, '97530_2': 0, 'J2930_2': 0, '99000_2': 0, '36416_2': 0, '76098_2': 0, 'G0152_2': 0, 'G0157_2': 0, 'Q4081_2': 0, 'Q5001_2': 0, '99245_2': 0, '82947_2': 0, '86304_2': 0, '77332_2': 0, 'G0378_2': 0, '97535_2': 0, '82670_2': 0, 'L8000_2': 0, '88309_2': 0, 'G9637_2': 0, 'J0185_2': 0, 'J1885_2': 0, '77470_2': 0, '84703_2': 0, '71045_2': 0, 'A9541_2': 0, 'S5000_2': 0, 'J9250_2': 0, 'G6017_2': 0, '88377_2': 1, '76942_2': 0, '77421_2': 0, '01610_2': 0, '77080_2': 0, '81025_2': 0, '77331_2': 0, '87086_2': 0, '77338_2': 0, '74176_2': 0, 'S9123_2': 0, '81003_2': 0, '77012_2': 0, '36590_2': 0, 'NONE_2': 0, '94760_2': 0, '83001_2': 0, 'G0206_2': 0, '77301_2': 0, '72158_2': 0, '82040_2': 0, '72157_2': 0, '88321_2': 0, 'J3475_2': 0, '99152_2': 0, 'J0131_2': 0, 'A4216_2': 0, 'J1030_2': 0, 'A9561_2': 0, '82948_2': 0, '78195_2': 0, 'J2370_2': 0, '00532_2': 0, '36430_2': 0, '82977_2': 0, '19357_2': 0, '80047_2': 0, '84484_2': 0, 'A9579_2': 0, '0159T_2': 0, '96549_2': 0, 'J3480_2': 0, '88173_2': 0, '99284_2': 0, '99244_2': 1, '71010_2': 0, '88374_2': 0, 'A4648_2': 0, '77066_2': 0, 'A9577_2': 0, '77373_2': 0, '77418_2': 0, 'J9022_2': 0, 'J9035_2': 0, 'J2430_2': 0, '99231_2': 0, 'J9354_2': 0, '38505_2': 0, '84132_2': 0, 'G0154_2': 0, 'Q9968_2': 0, '97112_2': 0, '88333_2': 0, '93010_2': 0, '74178_2': 0, '96376_2': 0, '00400_2': 0, '87040_2': 0, 'G0008_2': 0, 'J0330_2': 0, 'G9557_2': 0, 'A9575_2': 0, 'J1040_2': 0, 'G0279_2': 0, '99222_2': 0, '99153_2': 0, '77051_2': 0, 'P9016_2': 0}\n"
          ],
          "name": "stdout"
        }
      ]
    },
    {
      "cell_type": "code",
      "metadata": {
        "id": "bZ0yGi1NVZJW"
      },
      "source": [
        "# transform patient_procedure_dic so that it can be converted to a dataframe \n",
        "pd_list = []\n",
        "for key, value in patient_procedure_dic.items():\n",
        "  dic = {'PATIENT_ID':key}\n",
        "  dic.update(value)\n",
        "  pd_list.append(dic)\n",
        "\n",
        "del patient_procedure_dic\n",
        "\n",
        "procedure_aggregated = pd.DataFrame(pd_list)\n",
        "procedure_aggregated.to_csv('/content/drive/My Drive/Novartis/procedure_aggregated300.csv', index=False)\n",
        "\n",
        "del procedure_aggregated"
      ],
      "execution_count": null,
      "outputs": []
    },
    {
      "cell_type": "code",
      "metadata": {
        "id": "ygbQGMlobMe0",
        "outputId": "3690df7f-a58b-40a0-c731-61274ecb017f",
        "colab": {
          "base_uri": "https://localhost:8080/",
          "height": 247
        }
      },
      "source": [
        "# take a look at the procedure_aggregated table \n",
        "pd.read_csv('/content/drive/My Drive/Novartis/procedure_aggregated300.csv').head()"
      ],
      "execution_count": null,
      "outputs": [
        {
          "output_type": "execute_result",
          "data": {
            "text/html": [
              "<div>\n",
              "<style scoped>\n",
              "    .dataframe tbody tr th:only-of-type {\n",
              "        vertical-align: middle;\n",
              "    }\n",
              "\n",
              "    .dataframe tbody tr th {\n",
              "        vertical-align: top;\n",
              "    }\n",
              "\n",
              "    .dataframe thead th {\n",
              "        text-align: right;\n",
              "    }\n",
              "</style>\n",
              "<table border=\"1\" class=\"dataframe\">\n",
              "  <thead>\n",
              "    <tr style=\"text-align: right;\">\n",
              "      <th></th>\n",
              "      <th>PATIENT_ID</th>\n",
              "      <th>85025_1</th>\n",
              "      <th>80053_1</th>\n",
              "      <th>99214_1</th>\n",
              "      <th>96413_1</th>\n",
              "      <th>36415_1</th>\n",
              "      <th>J1100_1</th>\n",
              "      <th>J9395_1</th>\n",
              "      <th>96402_1</th>\n",
              "      <th>86300_1</th>\n",
              "      <th>96375_1</th>\n",
              "      <th>96372_1</th>\n",
              "      <th>99213_1</th>\n",
              "      <th>77412_1</th>\n",
              "      <th>96367_1</th>\n",
              "      <th>J0897_1</th>\n",
              "      <th>J9267_1</th>\n",
              "      <th>99215_1</th>\n",
              "      <th>J1200_1</th>\n",
              "      <th>96365_1</th>\n",
              "      <th>G0463_1</th>\n",
              "      <th>J7050_1</th>\n",
              "      <th>J9070_1</th>\n",
              "      <th>J1642_1</th>\n",
              "      <th>J2405_1</th>\n",
              "      <th>82378_1</th>\n",
              "      <th>J2469_1</th>\n",
              "      <th>J3489_1</th>\n",
              "      <th>71260_1</th>\n",
              "      <th>36591_1</th>\n",
              "      <th>77336_1</th>\n",
              "      <th>J9000_1</th>\n",
              "      <th>96411_1</th>\n",
              "      <th>83735_1</th>\n",
              "      <th>74177_1</th>\n",
              "      <th>96417_1</th>\n",
              "      <th>J2505_1</th>\n",
              "      <th>J1626_1</th>\n",
              "      <th>83615_1</th>\n",
              "      <th>77387_1</th>\n",
              "      <th>...</th>\n",
              "      <th>A9579_2</th>\n",
              "      <th>0159T_2</th>\n",
              "      <th>96549_2</th>\n",
              "      <th>J3480_2</th>\n",
              "      <th>88173_2</th>\n",
              "      <th>99284_2</th>\n",
              "      <th>99244_2</th>\n",
              "      <th>71010_2</th>\n",
              "      <th>88374_2</th>\n",
              "      <th>A4648_2</th>\n",
              "      <th>77066_2</th>\n",
              "      <th>A9577_2</th>\n",
              "      <th>77373_2</th>\n",
              "      <th>77418_2</th>\n",
              "      <th>J9022_2</th>\n",
              "      <th>J9035_2</th>\n",
              "      <th>J2430_2</th>\n",
              "      <th>99231_2</th>\n",
              "      <th>J9354_2</th>\n",
              "      <th>38505_2</th>\n",
              "      <th>84132_2</th>\n",
              "      <th>G0154_2</th>\n",
              "      <th>Q9968_2</th>\n",
              "      <th>97112_2</th>\n",
              "      <th>88333_2</th>\n",
              "      <th>93010_2</th>\n",
              "      <th>74178_2</th>\n",
              "      <th>96376_2</th>\n",
              "      <th>00400_2</th>\n",
              "      <th>87040_2</th>\n",
              "      <th>G0008_2</th>\n",
              "      <th>J0330_2</th>\n",
              "      <th>G9557_2</th>\n",
              "      <th>A9575_2</th>\n",
              "      <th>J1040_2</th>\n",
              "      <th>G0279_2</th>\n",
              "      <th>99222_2</th>\n",
              "      <th>99153_2</th>\n",
              "      <th>77051_2</th>\n",
              "      <th>P9016_2</th>\n",
              "    </tr>\n",
              "  </thead>\n",
              "  <tbody>\n",
              "    <tr>\n",
              "      <th>0</th>\n",
              "      <td>29360529</td>\n",
              "      <td>2</td>\n",
              "      <td>0</td>\n",
              "      <td>2</td>\n",
              "      <td>0</td>\n",
              "      <td>2</td>\n",
              "      <td>0</td>\n",
              "      <td>0</td>\n",
              "      <td>0</td>\n",
              "      <td>0</td>\n",
              "      <td>0</td>\n",
              "      <td>0</td>\n",
              "      <td>0</td>\n",
              "      <td>0</td>\n",
              "      <td>0</td>\n",
              "      <td>0</td>\n",
              "      <td>0</td>\n",
              "      <td>0</td>\n",
              "      <td>0</td>\n",
              "      <td>0</td>\n",
              "      <td>0</td>\n",
              "      <td>0</td>\n",
              "      <td>0</td>\n",
              "      <td>0</td>\n",
              "      <td>0</td>\n",
              "      <td>0</td>\n",
              "      <td>0</td>\n",
              "      <td>0</td>\n",
              "      <td>0</td>\n",
              "      <td>0</td>\n",
              "      <td>0</td>\n",
              "      <td>0</td>\n",
              "      <td>0</td>\n",
              "      <td>0</td>\n",
              "      <td>0</td>\n",
              "      <td>0</td>\n",
              "      <td>0</td>\n",
              "      <td>0</td>\n",
              "      <td>0</td>\n",
              "      <td>0</td>\n",
              "      <td>...</td>\n",
              "      <td>0</td>\n",
              "      <td>0</td>\n",
              "      <td>0</td>\n",
              "      <td>0</td>\n",
              "      <td>0</td>\n",
              "      <td>0</td>\n",
              "      <td>1</td>\n",
              "      <td>0</td>\n",
              "      <td>0</td>\n",
              "      <td>0</td>\n",
              "      <td>0</td>\n",
              "      <td>0</td>\n",
              "      <td>0</td>\n",
              "      <td>0</td>\n",
              "      <td>0</td>\n",
              "      <td>0</td>\n",
              "      <td>0</td>\n",
              "      <td>0</td>\n",
              "      <td>0</td>\n",
              "      <td>0</td>\n",
              "      <td>0</td>\n",
              "      <td>0</td>\n",
              "      <td>0</td>\n",
              "      <td>0</td>\n",
              "      <td>0</td>\n",
              "      <td>0</td>\n",
              "      <td>0</td>\n",
              "      <td>0</td>\n",
              "      <td>0</td>\n",
              "      <td>0</td>\n",
              "      <td>0</td>\n",
              "      <td>0</td>\n",
              "      <td>0</td>\n",
              "      <td>0</td>\n",
              "      <td>0</td>\n",
              "      <td>0</td>\n",
              "      <td>0</td>\n",
              "      <td>0</td>\n",
              "      <td>0</td>\n",
              "      <td>0</td>\n",
              "    </tr>\n",
              "    <tr>\n",
              "      <th>1</th>\n",
              "      <td>29425424</td>\n",
              "      <td>0</td>\n",
              "      <td>0</td>\n",
              "      <td>1</td>\n",
              "      <td>0</td>\n",
              "      <td>0</td>\n",
              "      <td>0</td>\n",
              "      <td>0</td>\n",
              "      <td>0</td>\n",
              "      <td>0</td>\n",
              "      <td>0</td>\n",
              "      <td>0</td>\n",
              "      <td>0</td>\n",
              "      <td>0</td>\n",
              "      <td>0</td>\n",
              "      <td>0</td>\n",
              "      <td>0</td>\n",
              "      <td>0</td>\n",
              "      <td>0</td>\n",
              "      <td>0</td>\n",
              "      <td>0</td>\n",
              "      <td>0</td>\n",
              "      <td>0</td>\n",
              "      <td>0</td>\n",
              "      <td>0</td>\n",
              "      <td>0</td>\n",
              "      <td>0</td>\n",
              "      <td>0</td>\n",
              "      <td>0</td>\n",
              "      <td>0</td>\n",
              "      <td>0</td>\n",
              "      <td>0</td>\n",
              "      <td>0</td>\n",
              "      <td>0</td>\n",
              "      <td>0</td>\n",
              "      <td>0</td>\n",
              "      <td>0</td>\n",
              "      <td>0</td>\n",
              "      <td>0</td>\n",
              "      <td>0</td>\n",
              "      <td>...</td>\n",
              "      <td>1</td>\n",
              "      <td>0</td>\n",
              "      <td>0</td>\n",
              "      <td>0</td>\n",
              "      <td>0</td>\n",
              "      <td>0</td>\n",
              "      <td>0</td>\n",
              "      <td>1</td>\n",
              "      <td>0</td>\n",
              "      <td>0</td>\n",
              "      <td>0</td>\n",
              "      <td>0</td>\n",
              "      <td>0</td>\n",
              "      <td>0</td>\n",
              "      <td>0</td>\n",
              "      <td>0</td>\n",
              "      <td>0</td>\n",
              "      <td>0</td>\n",
              "      <td>0</td>\n",
              "      <td>0</td>\n",
              "      <td>17</td>\n",
              "      <td>0</td>\n",
              "      <td>0</td>\n",
              "      <td>0</td>\n",
              "      <td>0</td>\n",
              "      <td>0</td>\n",
              "      <td>7</td>\n",
              "      <td>0</td>\n",
              "      <td>0</td>\n",
              "      <td>0</td>\n",
              "      <td>0</td>\n",
              "      <td>0</td>\n",
              "      <td>2</td>\n",
              "      <td>0</td>\n",
              "      <td>0</td>\n",
              "      <td>0</td>\n",
              "      <td>4</td>\n",
              "      <td>0</td>\n",
              "      <td>0</td>\n",
              "      <td>2</td>\n",
              "    </tr>\n",
              "    <tr>\n",
              "      <th>2</th>\n",
              "      <td>29494927</td>\n",
              "      <td>0</td>\n",
              "      <td>0</td>\n",
              "      <td>0</td>\n",
              "      <td>0</td>\n",
              "      <td>0</td>\n",
              "      <td>0</td>\n",
              "      <td>0</td>\n",
              "      <td>0</td>\n",
              "      <td>0</td>\n",
              "      <td>0</td>\n",
              "      <td>0</td>\n",
              "      <td>0</td>\n",
              "      <td>0</td>\n",
              "      <td>0</td>\n",
              "      <td>0</td>\n",
              "      <td>0</td>\n",
              "      <td>0</td>\n",
              "      <td>0</td>\n",
              "      <td>0</td>\n",
              "      <td>0</td>\n",
              "      <td>0</td>\n",
              "      <td>0</td>\n",
              "      <td>0</td>\n",
              "      <td>0</td>\n",
              "      <td>0</td>\n",
              "      <td>0</td>\n",
              "      <td>0</td>\n",
              "      <td>0</td>\n",
              "      <td>0</td>\n",
              "      <td>0</td>\n",
              "      <td>0</td>\n",
              "      <td>0</td>\n",
              "      <td>0</td>\n",
              "      <td>0</td>\n",
              "      <td>0</td>\n",
              "      <td>0</td>\n",
              "      <td>0</td>\n",
              "      <td>0</td>\n",
              "      <td>0</td>\n",
              "      <td>...</td>\n",
              "      <td>0</td>\n",
              "      <td>0</td>\n",
              "      <td>0</td>\n",
              "      <td>0</td>\n",
              "      <td>0</td>\n",
              "      <td>0</td>\n",
              "      <td>0</td>\n",
              "      <td>0</td>\n",
              "      <td>0</td>\n",
              "      <td>0</td>\n",
              "      <td>0</td>\n",
              "      <td>0</td>\n",
              "      <td>0</td>\n",
              "      <td>0</td>\n",
              "      <td>0</td>\n",
              "      <td>0</td>\n",
              "      <td>0</td>\n",
              "      <td>0</td>\n",
              "      <td>0</td>\n",
              "      <td>0</td>\n",
              "      <td>0</td>\n",
              "      <td>0</td>\n",
              "      <td>0</td>\n",
              "      <td>0</td>\n",
              "      <td>0</td>\n",
              "      <td>0</td>\n",
              "      <td>0</td>\n",
              "      <td>0</td>\n",
              "      <td>0</td>\n",
              "      <td>0</td>\n",
              "      <td>1</td>\n",
              "      <td>2</td>\n",
              "      <td>0</td>\n",
              "      <td>0</td>\n",
              "      <td>0</td>\n",
              "      <td>0</td>\n",
              "      <td>0</td>\n",
              "      <td>0</td>\n",
              "      <td>0</td>\n",
              "      <td>0</td>\n",
              "    </tr>\n",
              "    <tr>\n",
              "      <th>3</th>\n",
              "      <td>29531186</td>\n",
              "      <td>0</td>\n",
              "      <td>0</td>\n",
              "      <td>0</td>\n",
              "      <td>0</td>\n",
              "      <td>0</td>\n",
              "      <td>0</td>\n",
              "      <td>0</td>\n",
              "      <td>0</td>\n",
              "      <td>0</td>\n",
              "      <td>0</td>\n",
              "      <td>0</td>\n",
              "      <td>2</td>\n",
              "      <td>0</td>\n",
              "      <td>0</td>\n",
              "      <td>0</td>\n",
              "      <td>0</td>\n",
              "      <td>0</td>\n",
              "      <td>0</td>\n",
              "      <td>0</td>\n",
              "      <td>0</td>\n",
              "      <td>0</td>\n",
              "      <td>0</td>\n",
              "      <td>0</td>\n",
              "      <td>0</td>\n",
              "      <td>0</td>\n",
              "      <td>0</td>\n",
              "      <td>0</td>\n",
              "      <td>0</td>\n",
              "      <td>0</td>\n",
              "      <td>0</td>\n",
              "      <td>0</td>\n",
              "      <td>0</td>\n",
              "      <td>0</td>\n",
              "      <td>0</td>\n",
              "      <td>0</td>\n",
              "      <td>0</td>\n",
              "      <td>0</td>\n",
              "      <td>0</td>\n",
              "      <td>0</td>\n",
              "      <td>...</td>\n",
              "      <td>0</td>\n",
              "      <td>5</td>\n",
              "      <td>0</td>\n",
              "      <td>0</td>\n",
              "      <td>0</td>\n",
              "      <td>0</td>\n",
              "      <td>0</td>\n",
              "      <td>0</td>\n",
              "      <td>0</td>\n",
              "      <td>0</td>\n",
              "      <td>2</td>\n",
              "      <td>0</td>\n",
              "      <td>6</td>\n",
              "      <td>0</td>\n",
              "      <td>0</td>\n",
              "      <td>0</td>\n",
              "      <td>0</td>\n",
              "      <td>0</td>\n",
              "      <td>0</td>\n",
              "      <td>0</td>\n",
              "      <td>0</td>\n",
              "      <td>0</td>\n",
              "      <td>0</td>\n",
              "      <td>0</td>\n",
              "      <td>0</td>\n",
              "      <td>0</td>\n",
              "      <td>0</td>\n",
              "      <td>4</td>\n",
              "      <td>0</td>\n",
              "      <td>0</td>\n",
              "      <td>0</td>\n",
              "      <td>2</td>\n",
              "      <td>0</td>\n",
              "      <td>0</td>\n",
              "      <td>0</td>\n",
              "      <td>0</td>\n",
              "      <td>0</td>\n",
              "      <td>4</td>\n",
              "      <td>0</td>\n",
              "      <td>0</td>\n",
              "    </tr>\n",
              "    <tr>\n",
              "      <th>4</th>\n",
              "      <td>29537719</td>\n",
              "      <td>0</td>\n",
              "      <td>0</td>\n",
              "      <td>2</td>\n",
              "      <td>0</td>\n",
              "      <td>0</td>\n",
              "      <td>0</td>\n",
              "      <td>0</td>\n",
              "      <td>0</td>\n",
              "      <td>0</td>\n",
              "      <td>0</td>\n",
              "      <td>0</td>\n",
              "      <td>1</td>\n",
              "      <td>0</td>\n",
              "      <td>0</td>\n",
              "      <td>0</td>\n",
              "      <td>0</td>\n",
              "      <td>0</td>\n",
              "      <td>0</td>\n",
              "      <td>0</td>\n",
              "      <td>0</td>\n",
              "      <td>0</td>\n",
              "      <td>0</td>\n",
              "      <td>0</td>\n",
              "      <td>0</td>\n",
              "      <td>0</td>\n",
              "      <td>0</td>\n",
              "      <td>0</td>\n",
              "      <td>0</td>\n",
              "      <td>0</td>\n",
              "      <td>0</td>\n",
              "      <td>0</td>\n",
              "      <td>0</td>\n",
              "      <td>0</td>\n",
              "      <td>0</td>\n",
              "      <td>0</td>\n",
              "      <td>0</td>\n",
              "      <td>0</td>\n",
              "      <td>0</td>\n",
              "      <td>0</td>\n",
              "      <td>...</td>\n",
              "      <td>0</td>\n",
              "      <td>0</td>\n",
              "      <td>0</td>\n",
              "      <td>0</td>\n",
              "      <td>0</td>\n",
              "      <td>0</td>\n",
              "      <td>0</td>\n",
              "      <td>0</td>\n",
              "      <td>0</td>\n",
              "      <td>0</td>\n",
              "      <td>0</td>\n",
              "      <td>2</td>\n",
              "      <td>0</td>\n",
              "      <td>0</td>\n",
              "      <td>0</td>\n",
              "      <td>0</td>\n",
              "      <td>0</td>\n",
              "      <td>0</td>\n",
              "      <td>0</td>\n",
              "      <td>0</td>\n",
              "      <td>0</td>\n",
              "      <td>0</td>\n",
              "      <td>0</td>\n",
              "      <td>0</td>\n",
              "      <td>0</td>\n",
              "      <td>0</td>\n",
              "      <td>0</td>\n",
              "      <td>2</td>\n",
              "      <td>0</td>\n",
              "      <td>0</td>\n",
              "      <td>0</td>\n",
              "      <td>0</td>\n",
              "      <td>0</td>\n",
              "      <td>0</td>\n",
              "      <td>0</td>\n",
              "      <td>3</td>\n",
              "      <td>0</td>\n",
              "      <td>0</td>\n",
              "      <td>3</td>\n",
              "      <td>0</td>\n",
              "    </tr>\n",
              "  </tbody>\n",
              "</table>\n",
              "<p>5 rows × 601 columns</p>\n",
              "</div>"
            ],
            "text/plain": [
              "   PATIENT_ID  85025_1  80053_1  99214_1  ...  99222_2  99153_2  77051_2  P9016_2\n",
              "0    29360529        2        0        2  ...        0        0        0        0\n",
              "1    29425424        0        0        1  ...        4        0        0        2\n",
              "2    29494927        0        0        0  ...        0        0        0        0\n",
              "3    29531186        0        0        0  ...        0        4        0        0\n",
              "4    29537719        0        0        2  ...        0        0        3        0\n",
              "\n",
              "[5 rows x 601 columns]"
            ]
          },
          "metadata": {
            "tags": []
          },
          "execution_count": 50
        }
      ]
    },
    {
      "cell_type": "markdown",
      "metadata": {
        "id": "GwEZNCXob1Bv"
      },
      "source": [
        "Now that we've finally leveraged the data in the PX and RX file, let's put them together to form a prepared table."
      ]
    },
    {
      "cell_type": "code",
      "metadata": {
        "id": "zf4bjdkj9XVz"
      },
      "source": [
        "# the data to use \n",
        "\n",
        "# supportive table\n",
        "line = pd.read_csv('/content/drive/My Drive/Novartis/RP2_L1L2.csv', parse_dates= [1,2])\n",
        "\n",
        "patients = pd.read_csv('/content/drive/My Drive/Novartis/MBC_patients.csv')\n",
        "\n",
        "# features table \n",
        "drug = pd.read_csv('/content/drive/My Drive/Novartis/drug_aggregated.csv')\n",
        "\n",
        "procedure = pd.read_csv('/content/drive/My Drive/Novartis/procedure_aggregated300.csv')\n",
        "\n",
        "mbc_diag = pd.read_csv('/content/drive/My Drive/Novartis/MBC_DIAG.csv')"
      ],
      "execution_count": null,
      "outputs": []
    },
    {
      "cell_type": "code",
      "metadata": {
        "id": "csiNdk-j9rHk"
      },
      "source": [
        "# make sure include only the mbc patients \n",
        "drug = drug.merge(patients, on='PATIENT_ID')\n",
        "line = line.merge(patients, on='PATIENT_ID')"
      ],
      "execution_count": null,
      "outputs": []
    },
    {
      "cell_type": "code",
      "metadata": {
        "id": "lPpFJuyI-Afi"
      },
      "source": [
        "# define mode of a Series\n",
        "def mode(row):\n",
        "    x = list(row)\n",
        "    return max(set(x), key=x.count)"
      ],
      "execution_count": null,
      "outputs": []
    },
    {
      "cell_type": "code",
      "metadata": {
        "id": "QDPK70U5-IYR"
      },
      "source": [
        "# aggregated information from DIAGNOSIS table \n",
        "mbc_model1 = mbc_diag[['PATIENT_ID', 'CLAIM_TYP_CD','DIAGNOSIS_CODE','DIAG_VERS_TYP_ID','DIAG_CD_POSN_NBR']].groupby('PATIENT_ID').agg(\n",
        "    CLAIM_TYP_CD = ('CLAIM_TYP_CD', mode),\n",
        "    DIAGNOSIS_CODE = ('DIAGNOSIS_CODE', mode),\n",
        "    DIAG_VERS_TYP_ID = ('DIAG_VERS_TYP_ID', mode),\n",
        "    DIAG_CD_POSN_NBR = ('DIAG_CD_POSN_NBR', mode)\n",
        ")\n",
        "\n",
        "del mbc_diag"
      ],
      "execution_count": null,
      "outputs": []
    },
    {
      "cell_type": "code",
      "metadata": {
        "id": "Ifq-F4HW-Paa"
      },
      "source": [
        "# merge the tables together to form a prepared table \n",
        "line_model1 = line.merge(mbc_model1, how='left', on='PATIENT_ID')\n",
        "line_model1 = line_model1.merge(procedure, how='left', on='PATIENT_ID')\n",
        "line_model1 = line_model1.merge(drug, how='left', on='PATIENT_ID')\n",
        "\n",
        "\n",
        "line_model1['diff'] = (line_model1['L2_DATE'] - line_model1['L1_DATE']).dt.days\n",
        "line_model1 = line_model1.drop(['L1_DATE','L2_DATE'], axis=1)\n",
        "\n",
        "line_model1.to_csv('/content/drive/My Drive/Novartis/obj2_data.csv', index=False)"
      ],
      "execution_count": null,
      "outputs": []
    },
    {
      "cell_type": "markdown",
      "metadata": {
        "id": "pPc_hZOc-Zt0"
      },
      "source": [
        "Now that we've prepared our table, we can finally start building models. See the next notebook for detail."
      ]
    }
  ]
}