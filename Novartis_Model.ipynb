{
  "nbformat": 4,
  "nbformat_minor": 0,
  "metadata": {
    "colab": {
      "name": "Novartis_Model.ipynb",
      "provenance": [],
      "collapsed_sections": [],
      "include_colab_link": true
    },
    "kernelspec": {
      "name": "python3",
      "display_name": "Python 3"
    },
    "accelerator": "GPU"
  },
  "cells": [
    {
      "cell_type": "markdown",
      "metadata": {
        "id": "view-in-github",
        "colab_type": "text"
      },
      "source": [
        "<a href=\"https://colab.research.google.com/github/Xiaoyu-Su-20/Novartis-Hackathon/blob/main/Novartis_Model.ipynb\" target=\"_parent\"><img src=\"https://colab.research.google.com/assets/colab-badge.svg\" alt=\"Open In Colab\"/></a>"
      ]
    },
    {
      "cell_type": "markdown",
      "metadata": {
        "id": "Ae8Q7R-eXBFR"
      },
      "source": [
        "In this notebook, we are going to build models for the data we prepared in the first notebook."
      ]
    },
    {
      "cell_type": "code",
      "metadata": {
        "id": "TycpLagFX1ON",
        "outputId": "08b82434-3c87-48f1-a403-94e8e9c306ed",
        "colab": {
          "base_uri": "https://localhost:8080/"
        }
      },
      "source": [
        "import numpy as np\n",
        "import pandas as pd\n",
        "import datetime\n",
        "from google.colab import drive\n",
        "drive.mount(\"/content/drive\")"
      ],
      "execution_count": null,
      "outputs": [
        {
          "output_type": "stream",
          "text": [
            "Drive already mounted at /content/drive; to attempt to forcibly remount, call drive.mount(\"/content/drive\", force_remount=True).\n"
          ],
          "name": "stdout"
        }
      ]
    },
    {
      "cell_type": "code",
      "metadata": {
        "id": "GjcBG4EQYqU7"
      },
      "source": [
        "# read the data\n",
        "df = pd.read_csv('/content/drive/My Drive/Novartis/obj2_data.csv')"
      ],
      "execution_count": null,
      "outputs": []
    },
    {
      "cell_type": "markdown",
      "metadata": {
        "id": "IfJtAiUEXW3s"
      },
      "source": [
        "We define our target as such:\n",
        "\n",
        "1: Starting L2 treatment within 3 months.\n",
        "\n",
        "2: Starting L2 treatment after 3 months.\n",
        "\n",
        "The definition takes into account model performances and practicality.From a practical perspective, we might care more about patients that would pay a recent visit, and we care less about the the patients that would come 2 or 3 years later. Also, we think there is no need to \n",
        "distinguish between this week and that week, since there is already a lot of randomness to it. From a model performance perspective, models cannot learn finer categories. For example, our model can't tell\n",
        "the difference between 6 months and a year. It could be the case that the data does not tell the story of why a patient would wait for another 6 months."
      ]
    },
    {
      "cell_type": "code",
      "metadata": {
        "id": "x_nGpcCfXpWN"
      },
      "source": [
        "# after 3 month\n",
        "df['class'] = 0\n",
        "\n",
        "# within 3 month \n",
        "df.loc[df['diff'] <= 90, 'class'] = 1 \n",
        "\n",
        "df.drop('diff', axis=1, inplace=True)"
      ],
      "execution_count": null,
      "outputs": []
    },
    {
      "cell_type": "code",
      "metadata": {
        "id": "AwyyCqXreiEc",
        "outputId": "57e4d0fe-485b-453e-f31a-a71b7d41d8a5",
        "colab": {
          "base_uri": "https://localhost:8080/"
        }
      },
      "source": [
        "df['class'].value_counts()"
      ],
      "execution_count": null,
      "outputs": [
        {
          "output_type": "execute_result",
          "data": {
            "text/plain": [
              "1    11894\n",
              "0     7306\n",
              "Name: class, dtype: int64"
            ]
          },
          "metadata": {
            "tags": []
          },
          "execution_count": 32
        }
      ]
    },
    {
      "cell_type": "markdown",
      "metadata": {
        "id": "2KIdXaQ_Yd5i"
      },
      "source": [
        "Note that the targets are slightly imbalanced, we'll address this later.\n",
        "\n",
        "Now we can use sklearn to build models for our objective. We'll pick logistic regression, the simplest model, as well as some of the most powerful tree based models. "
      ]
    },
    {
      "cell_type": "code",
      "metadata": {
        "id": "pWnYO1dD_VNz"
      },
      "source": [
        "# preprossessing \n",
        "from sklearn.experimental import enable_iterative_imputer\n",
        "from sklearn.impute import IterativeImputer, SimpleImputer\n",
        "from sklearn.preprocessing import OneHotEncoder, StandardScaler\n",
        "from sklearn.model_selection import train_test_split\n",
        "\n",
        "# pipeline \n",
        "from sklearn.pipeline import Pipeline\n",
        "from sklearn.compose import ColumnTransformer\n",
        "\n",
        "# models \n",
        "from sklearn.linear_model import LogisticRegression\n",
        "from sklearn.neighbors import KNeighborsClassifier\n",
        "from sklearn import svm\n",
        "from sklearn.experimental import enable_hist_gradient_boosting\n",
        "from sklearn.ensemble import HistGradientBoostingClassifier\n",
        "from sklearn.ensemble import RandomForestClassifier, AdaBoostClassifier\n",
        "\n",
        "# model performance \n",
        "from sklearn.model_selection import KFold, cross_val_score\n",
        "from sklearn.metrics import classification_report, confusion_matrix\n",
        "from sklearn.model_selection import RandomizedSearchCV\n",
        "\n",
        "# imblearn\n",
        "from imblearn.over_sampling import SMOTE\n",
        "from imblearn.pipeline import make_pipeline\n",
        "\n",
        "# xgboost\n",
        "import xgboost as xgb"
      ],
      "execution_count": null,
      "outputs": []
    },
    {
      "cell_type": "markdown",
      "metadata": {
        "id": "ruY4GmsnkMwq"
      },
      "source": [
        "We don't actually want to be using the information from Line2, since we need to predict when Line2 is going to take place in the future. Thus we only want to include the data of Line1."
      ]
    },
    {
      "cell_type": "code",
      "metadata": {
        "id": "OjRgHH2G_VTl"
      },
      "source": [
        "# find cat and num columns \n",
        "categorical = ['CLAIM_TYP_CD' ,'DIAGNOSIS_CODE']\n",
        "numerical = df.columns.tolist()[3:-1]\n",
        "\n",
        "# find feature columns and target column\n",
        "features = df.columns.tolist()[1:-1]\n",
        "target = ['class']\n",
        "\n",
        "# now maintain another feature_lst that exclude line2 data\n",
        "features_1 = []\n",
        "\n",
        "for i in features:\n",
        "  if i[-1] != '2':\n",
        "    features_1.append(i)\n",
        "\n",
        "numerical_1 = features_1[2:]"
      ],
      "execution_count": null,
      "outputs": []
    },
    {
      "cell_type": "code",
      "metadata": {
        "id": "NiMD0XL1AABP"
      },
      "source": [
        "model_names = ['LogisticRegression', \n",
        "              'RandomForestClassifier', \n",
        "               'HistGradientBoostingClassifier',\n",
        "               'xgboost']\n",
        "\n",
        "models = [  LogisticRegression(),\n",
        "            RandomForestClassifier(n_estimators=200, random_state=0),\n",
        "            HistGradientBoostingClassifier(),\n",
        "            xgb.XGBClassifier(n_estimators=100)\n",
        "         ]\n",
        "\n",
        "\n",
        "observations = pd.DataFrame()\n",
        "j = 0\n",
        "for i in models:\n",
        "    model = i\n",
        "    cv = KFold(n_splits=5, random_state=0, shuffle=True)\n",
        "    pipe = Pipeline(steps=[('preprocessor', preprocessor), ('model', model)])\n",
        "    observations[model_names[j]] = (cross_val_score(pipe, df[features_1], np.ravel(df[target]), scoring='accuracy', cv=cv))\n",
        "    j = j+1\n"
      ],
      "execution_count": null,
      "outputs": []
    },
    {
      "cell_type": "code",
      "metadata": {
        "id": "98buNB7fmgWg",
        "outputId": "0d9daeea-d746-44b7-f56f-c520c6d80a50",
        "colab": {
          "base_uri": "https://localhost:8080/",
          "height": 166
        }
      },
      "source": [
        "observations = observations.append(observations.mean(axis=0), ignore_index=True).T\n",
        "observations.columns = ['CV1','CV2','CV3','CV4','CV5','mean']\n",
        "observations"
      ],
      "execution_count": null,
      "outputs": [
        {
          "output_type": "execute_result",
          "data": {
            "text/html": [
              "<div>\n",
              "<style scoped>\n",
              "    .dataframe tbody tr th:only-of-type {\n",
              "        vertical-align: middle;\n",
              "    }\n",
              "\n",
              "    .dataframe tbody tr th {\n",
              "        vertical-align: top;\n",
              "    }\n",
              "\n",
              "    .dataframe thead th {\n",
              "        text-align: right;\n",
              "    }\n",
              "</style>\n",
              "<table border=\"1\" class=\"dataframe\">\n",
              "  <thead>\n",
              "    <tr style=\"text-align: right;\">\n",
              "      <th></th>\n",
              "      <th>CV1</th>\n",
              "      <th>CV2</th>\n",
              "      <th>CV3</th>\n",
              "      <th>CV4</th>\n",
              "      <th>CV5</th>\n",
              "      <th>mean</th>\n",
              "    </tr>\n",
              "  </thead>\n",
              "  <tbody>\n",
              "    <tr>\n",
              "      <th>LogisticRegression</th>\n",
              "      <td>0.798958</td>\n",
              "      <td>0.802083</td>\n",
              "      <td>0.809896</td>\n",
              "      <td>0.809896</td>\n",
              "      <td>0.808333</td>\n",
              "      <td>0.805833</td>\n",
              "    </tr>\n",
              "    <tr>\n",
              "      <th>RandomForestClassifier</th>\n",
              "      <td>0.800521</td>\n",
              "      <td>0.795573</td>\n",
              "      <td>0.797396</td>\n",
              "      <td>0.790885</td>\n",
              "      <td>0.800781</td>\n",
              "      <td>0.797031</td>\n",
              "    </tr>\n",
              "    <tr>\n",
              "      <th>HistGradientBoostingClassifier</th>\n",
              "      <td>0.822135</td>\n",
              "      <td>0.822135</td>\n",
              "      <td>0.815625</td>\n",
              "      <td>0.817969</td>\n",
              "      <td>0.819271</td>\n",
              "      <td>0.819427</td>\n",
              "    </tr>\n",
              "    <tr>\n",
              "      <th>xgboost</th>\n",
              "      <td>0.808854</td>\n",
              "      <td>0.811719</td>\n",
              "      <td>0.809375</td>\n",
              "      <td>0.807292</td>\n",
              "      <td>0.813021</td>\n",
              "      <td>0.810052</td>\n",
              "    </tr>\n",
              "  </tbody>\n",
              "</table>\n",
              "</div>"
            ],
            "text/plain": [
              "                                     CV1       CV2  ...       CV5      mean\n",
              "LogisticRegression              0.798958  0.802083  ...  0.808333  0.805833\n",
              "RandomForestClassifier          0.800521  0.795573  ...  0.800781  0.797031\n",
              "HistGradientBoostingClassifier  0.822135  0.822135  ...  0.819271  0.819427\n",
              "xgboost                         0.808854  0.811719  ...  0.813021  0.810052\n",
              "\n",
              "[4 rows x 6 columns]"
            ]
          },
          "metadata": {
            "tags": []
          },
          "execution_count": 37
        }
      ]
    },
    {
      "cell_type": "markdown",
      "metadata": {
        "id": "ANIVy637ZxlN"
      },
      "source": [
        "We'll pick the best model, i.e. HistGradientBoostingClassifier, to perform hyperparameter tuning. This takes about 20 mins. "
      ]
    },
    {
      "cell_type": "code",
      "metadata": {
        "id": "Rf0iCD91Rr-g",
        "outputId": "607092e1-f3a3-4544-f28b-4c8c939e722c",
        "colab": {
          "base_uri": "https://localhost:8080/"
        }
      },
      "source": [
        "model = HistGradientBoostingClassifier()\n",
        "\n",
        "pipe = Pipeline(steps=[('preprocessor', preprocessor),\n",
        "                      ('model', model)])\n",
        "\n",
        "param_grid = [\n",
        "    {'model__max_iter':[80,100,120], 'model__max_leaf_nodes':[20,30,40], 'model__max_depth':[20,30,40], 'model__l2_regularization':[0,1]}\n",
        "]\n",
        "\n",
        "grid_search = RandomizedSearchCV(pipe, param_grid, cv=3, n_jobs=-1, return_train_score=True, n_iter=20)\n",
        "_ = grid_search.fit(df[features_1], np.ravel(df[target]))"
      ],
      "execution_count": null,
      "outputs": [
        {
          "output_type": "stream",
          "text": [
            "/usr/local/lib/python3.6/dist-packages/joblib/externals/loky/process_executor.py:691: UserWarning: A worker stopped while some jobs were given to the executor. This can be caused by a too short worker timeout or by a memory leak.\n",
            "  \"timeout or by a memory leak.\", UserWarning\n"
          ],
          "name": "stderr"
        }
      ]
    },
    {
      "cell_type": "code",
      "metadata": {
        "id": "5yacuWS6frkr",
        "outputId": "9f0be40d-8248-4a59-ec12-0b661a1c5565",
        "colab": {
          "base_uri": "https://localhost:8080/"
        }
      },
      "source": [
        "grid_search.best_params_"
      ],
      "execution_count": null,
      "outputs": [
        {
          "output_type": "execute_result",
          "data": {
            "text/plain": [
              "{'model__l2_regularization': 1,\n",
              " 'model__max_depth': 30,\n",
              " 'model__max_iter': 80,\n",
              " 'model__max_leaf_nodes': 30}"
            ]
          },
          "metadata": {
            "tags": []
          },
          "execution_count": 40
        }
      ]
    },
    {
      "cell_type": "code",
      "metadata": {
        "id": "1KjIzeSKf9Nd",
        "outputId": "677c9aa0-0b92-4788-f296-1dad2cf6e476",
        "colab": {
          "base_uri": "https://localhost:8080/"
        }
      },
      "source": [
        "grid_search.best_score_"
      ],
      "execution_count": null,
      "outputs": [
        {
          "output_type": "execute_result",
          "data": {
            "text/plain": [
              "0.8194270833333333"
            ]
          },
          "metadata": {
            "tags": []
          },
          "execution_count": 41
        }
      ]
    },
    {
      "cell_type": "markdown",
      "metadata": {
        "id": "-nUxThxMDxKg"
      },
      "source": [
        "Fine tune the model using SMOTE, a method dealing with imbalanced datasets.\n",
        "First, we use a custom stratified sampling method. "
      ]
    },
    {
      "cell_type": "code",
      "metadata": {
        "id": "XASTq43CZ2Oq"
      },
      "source": [
        "# custom stratified sampling method\n",
        "def strat_split(data, strat_col, my_split):\n",
        "  for train_index, test_index in my_split.split(data, data[strat_col]):\n",
        "      train_set = data.iloc[train_index]\n",
        "      test_set = data.iloc[test_index] \n",
        "      return train_set, test_set"
      ],
      "execution_count": null,
      "outputs": []
    },
    {
      "cell_type": "code",
      "metadata": {
        "id": "U-SMf-7KDs0I"
      },
      "source": [
        "from sklearn.model_selection import StratifiedShuffleSplit\n",
        "\n",
        "# get the smote_data\n",
        "data = pd.DataFrame(preprocessor.fit_transform(df[features_1]))\n",
        "data = pd.concat([data, df['class']], axis=1)\n",
        "\n",
        "my_split = StratifiedShuffleSplit(n_splits=1, test_size=0.2, random_state=0)\n",
        "train_set, test_set = strat_split(data, 'class', my_split)\n",
        "\n",
        "features_col = data.columns.tolist()[:-1]\n",
        "target_col = ['class']"
      ],
      "execution_count": null,
      "outputs": []
    },
    {
      "cell_type": "code",
      "metadata": {
        "id": "jYY6DQ3IDs46",
        "outputId": "5dd5e6e2-83e4-4d50-9f7e-6f71fccbe2fb",
        "colab": {
          "base_uri": "https://localhost:8080/",
          "height": 106
        }
      },
      "source": [
        "# we can take a look at the ratio \n",
        "pd.DataFrame({'total_ratio':data['class'].value_counts()/len(smote_data),\n",
        "              'train_ratio':train_set['class'].value_counts()/len(train_set), \n",
        "              'test_ratio':test_set['class'].value_counts()/len(test_set)})"
      ],
      "execution_count": null,
      "outputs": [
        {
          "output_type": "execute_result",
          "data": {
            "text/html": [
              "<div>\n",
              "<style scoped>\n",
              "    .dataframe tbody tr th:only-of-type {\n",
              "        vertical-align: middle;\n",
              "    }\n",
              "\n",
              "    .dataframe tbody tr th {\n",
              "        vertical-align: top;\n",
              "    }\n",
              "\n",
              "    .dataframe thead th {\n",
              "        text-align: right;\n",
              "    }\n",
              "</style>\n",
              "<table border=\"1\" class=\"dataframe\">\n",
              "  <thead>\n",
              "    <tr style=\"text-align: right;\">\n",
              "      <th></th>\n",
              "      <th>total_ratio</th>\n",
              "      <th>train_ratio</th>\n",
              "      <th>test_ratio</th>\n",
              "    </tr>\n",
              "  </thead>\n",
              "  <tbody>\n",
              "    <tr>\n",
              "      <th>1</th>\n",
              "      <td>0.619479</td>\n",
              "      <td>0.619466</td>\n",
              "      <td>0.619531</td>\n",
              "    </tr>\n",
              "    <tr>\n",
              "      <th>0</th>\n",
              "      <td>0.380521</td>\n",
              "      <td>0.380534</td>\n",
              "      <td>0.380469</td>\n",
              "    </tr>\n",
              "  </tbody>\n",
              "</table>\n",
              "</div>"
            ],
            "text/plain": [
              "   total_ratio  train_ratio  test_ratio\n",
              "1     0.619479     0.619466    0.619531\n",
              "0     0.380521     0.380534    0.380469"
            ]
          },
          "metadata": {
            "tags": []
          },
          "execution_count": 69
        }
      ]
    },
    {
      "cell_type": "markdown",
      "metadata": {
        "id": "CFOViqBghW4J"
      },
      "source": [
        "Without the stratified sampling, what we will get is this:"
      ]
    },
    {
      "cell_type": "code",
      "metadata": {
        "id": "gmy36H0DhWG-",
        "outputId": "7c200491-87f4-4e47-ca07-8679631b3093",
        "colab": {
          "base_uri": "https://localhost:8080/",
          "height": 106
        }
      },
      "source": [
        "_, _, y_train, y_test = train_test_split(data[features_col], data[target_col])\n",
        "\n",
        "pd.DataFrame({'total_ratio':data[target_col].value_counts()/len(smote_data),\n",
        "              'train_ratio':y_train.value_counts()/len(y_train), \n",
        "              'test_ratio':y_test.value_counts()/len(y_test)})"
      ],
      "execution_count": null,
      "outputs": [
        {
          "output_type": "execute_result",
          "data": {
            "text/html": [
              "<div>\n",
              "<style scoped>\n",
              "    .dataframe tbody tr th:only-of-type {\n",
              "        vertical-align: middle;\n",
              "    }\n",
              "\n",
              "    .dataframe tbody tr th {\n",
              "        vertical-align: top;\n",
              "    }\n",
              "\n",
              "    .dataframe thead th {\n",
              "        text-align: right;\n",
              "    }\n",
              "</style>\n",
              "<table border=\"1\" class=\"dataframe\">\n",
              "  <thead>\n",
              "    <tr style=\"text-align: right;\">\n",
              "      <th></th>\n",
              "      <th>total_ratio</th>\n",
              "      <th>train_ratio</th>\n",
              "      <th>test_ratio</th>\n",
              "    </tr>\n",
              "  </thead>\n",
              "  <tbody>\n",
              "    <tr>\n",
              "      <th>1</th>\n",
              "      <td>0.619479</td>\n",
              "      <td>0.616458</td>\n",
              "      <td>0.628542</td>\n",
              "    </tr>\n",
              "    <tr>\n",
              "      <th>0</th>\n",
              "      <td>0.380521</td>\n",
              "      <td>0.383542</td>\n",
              "      <td>0.371458</td>\n",
              "    </tr>\n",
              "  </tbody>\n",
              "</table>\n",
              "</div>"
            ],
            "text/plain": [
              "   total_ratio  train_ratio  test_ratio\n",
              "1     0.619479     0.616458    0.628542\n",
              "0     0.380521     0.383542    0.371458"
            ]
          },
          "metadata": {
            "tags": []
          },
          "execution_count": 80
        }
      ]
    },
    {
      "cell_type": "code",
      "metadata": {
        "id": "2i3aLANwDs2w"
      },
      "source": [
        "# to cope with the imbalanced dataset, generate fake data for the minority class\n",
        "oversample = SMOTE()\n",
        "\n",
        "X_train, y_train = oversample.fit_resample(train_set[features_col], train_set[target_col])\n",
        "\n",
        "# retrieve the best model so far \n",
        "hgbc = HistGradientBoostingClassifier(l2_regularization= 1,\n",
        "                                       max_depth= 30,\n",
        "                                       max_iter= 80,\n",
        "                                       max_leaf_nodes= 30)\n",
        "\n",
        "hgbc.fit(X_train, y_train)"
      ],
      "execution_count": null,
      "outputs": []
    },
    {
      "cell_type": "code",
      "metadata": {
        "id": "aP2xXo8uIpU9",
        "outputId": "515eb869-3e6e-40c9-b366-d198feb788a0",
        "colab": {
          "base_uri": "https://localhost:8080/"
        }
      },
      "source": [
        "y_pred = model.predict(test_set[features_col])\n",
        "\n",
        "print(classification_report(test_set[target_col], y_pred))"
      ],
      "execution_count": null,
      "outputs": [
        {
          "output_type": "stream",
          "text": [
            "              precision    recall  f1-score   support\n",
            "\n",
            "           0       0.72      0.85      0.78      1461\n",
            "           1       0.89      0.79      0.84      2379\n",
            "\n",
            "    accuracy                           0.81      3840\n",
            "   macro avg       0.81      0.82      0.81      3840\n",
            "weighted avg       0.83      0.81      0.82      3840\n",
            "\n"
          ],
          "name": "stdout"
        }
      ]
    },
    {
      "cell_type": "markdown",
      "metadata": {
        "id": "YuLrDoD6lUym"
      },
      "source": [
        "Carry out our final metrics."
      ]
    },
    {
      "cell_type": "code",
      "metadata": {
        "id": "Veh0Pc9ZI7q7",
        "outputId": "46080631-36b9-474f-fccc-6f9c2056a069",
        "colab": {
          "base_uri": "https://localhost:8080/"
        }
      },
      "source": [
        "conf_matrix = confusion_matrix(test_set[target_col], y_pred)\n",
        "\n",
        "print('accuracy = {}'.format(hgbc.score(test_set[features_col], test_set[target_col])))\n",
        "print('precision = {}'.format(conf_matrix[1][1]/(conf_matrix[1][1] + conf_matrix[0][1])))\n",
        "print('sensitivity = {}'.format(conf_matrix[1][1]/(conf_matrix[1][1] + conf_matrix[1][0])))\n",
        "print('specificity = {}'.format(conf_matrix[0][0]/(conf_matrix[0][0] + conf_matrix[0][1])))\n",
        "\n",
        "print('test size = 0.2')\n",
        "print('random_state = 0')"
      ],
      "execution_count": null,
      "outputs": [
        {
          "output_type": "stream",
          "text": [
            "accuracy = 0.8143229166666667\n",
            "precision = 0.8945127719962157\n",
            "sensitivity = 0.7948717948717948\n",
            "specificity = 0.8473648186173853\n",
            "test size = 0.2\n",
            "random_state = 0\n"
          ],
          "name": "stdout"
        }
      ]
    },
    {
      "cell_type": "markdown",
      "metadata": {
        "id": "yf9Z1rKTlbkz"
      },
      "source": [
        "We are unable to learn the feature importances from HistGradientBoostingClassifier. I built another Random Forest Classfier whose performance is not far off to see if we can et some insights out of that. Which factors influence patients decision of coming back early or late?"
      ]
    },
    {
      "cell_type": "code",
      "metadata": {
        "id": "zdp5d0rMP4yF"
      },
      "source": [
        "model.feature_importances_.shape"
      ],
      "execution_count": null,
      "outputs": []
    },
    {
      "cell_type": "code",
      "metadata": {
        "id": "LvLam1u_SU0m"
      },
      "source": [
        "rfc_feature_importance = model.feature_importances_\n",
        "\n",
        "feature_imp_lst = [(features_1[i],rfc_feature_importance[i]) for i in range(len(features_1))]\n",
        "feature_imp_lst.sort(key=lambda x:x[1], reverse=True)"
      ],
      "execution_count": null,
      "outputs": []
    },
    {
      "cell_type": "code",
      "metadata": {
        "id": "Nq9aARsFTst_"
      },
      "source": [
        "feature_imp = pd.DataFrame(feature_imp_lst).head(20)"
      ],
      "execution_count": null,
      "outputs": []
    },
    {
      "cell_type": "code",
      "metadata": {
        "id": "ycTSHDIaSGk-",
        "outputId": "20b14b50-86a4-49fd-f7fa-6c3a90966404",
        "colab": {
          "base_uri": "https://localhost:8080/",
          "height": 367
        }
      },
      "source": [
        "import matplotlib.pyplot as plt\n",
        "import seaborn as sns\n",
        "\n",
        "plt.figure(figsize=(10,5))\n",
        "fig = sns.barplot(x = feature_imp.iloc[:,1], y=feature_imp.iloc[:,0])\n",
        "fig = plt.xticks(rotation=20)\n",
        "fig = plt.xlabel('Importances', fontsize=14)\n",
        "fig = plt.ylabel('Features', fontsize=14)\n",
        "fig = plt.title('Objective 2 Feature Importance', fontsize=18)"
      ],
      "execution_count": null,
      "outputs": [
        {
          "output_type": "display_data",
          "data": {
            "image/png": "[encoded data removed]",
            "text/plain": [
              "<Figure size 720x360 with 1 Axes>"
            ]
          },
          "metadata": {
            "tags": [],
            "needs_background": "light"
          }
        }
      ]
    },
    {
      "cell_type": "markdown",
      "metadata": {
        "id": "3S5uRoZ8ogMv"
      },
      "source": [
        "So, what are these procedures that are so influential?"
      ]
    },
    {
      "cell_type": "code",
      "metadata": {
        "id": "1IfXw3JNlulu"
      },
      "source": [
        "# get the table with the descriptions we need \n",
        "procedure_reference =  pd.read_csv('/content/drive/My Drive/Novartis/PROCEDURE_reference_20200925.txt', sep='|')\n",
        "\n",
        "def get_procedure_description(code):\n",
        "  \"\"\"\n",
        "  Given the code, return the (code, description) tuple\n",
        "  \"\"\"\n",
        "  return code, procedure_reference.query(\"PROCEDURE_CODE == {}\".format(code))['PROCEDURE_DESCRIPTION'].iloc[0]"
      ],
      "execution_count": null,
      "outputs": []
    },
    {
      "cell_type": "code",
      "metadata": {
        "id": "OaK08ioulvzC",
        "outputId": "2fed93ed-c10c-4552-9586-3a75a793f240",
        "colab": {
          "base_uri": "https://localhost:8080/",
          "height": 521
        }
      },
      "source": [
        "procedure_code_lst = [\"'J9045'\", \"'80076'\", \"'J9171'\", \"'J0897'\", \"'J9355'\", \"'99214'\",\n",
        "                      \"'Q0162'\", \"'99285'\", \"'Q4081'\", \"'96401'\", \"'J2704'\", \"'88342'\",\n",
        "                      \"'88331'\", \"'80053'\", \"'J2270'\", \"'85025'\"\n",
        "                      ]\n",
        "\n",
        "description_lst = []\n",
        "for code in procedure_code_lst:\n",
        "  description_lst.append(get_procedure_description(code))\n",
        "\n",
        "description_df = pd.DataFrame(description_lst, columns=['procedure_code', 'description'])  \n",
        "description_df = description_df.replace(\"'\", '', regex=True)\n",
        "\n",
        "description_df"
      ],
      "execution_count": null,
      "outputs": [
        {
          "output_type": "execute_result",
          "data": {
            "text/html": [
              "<div>\n",
              "<style scoped>\n",
              "    .dataframe tbody tr th:only-of-type {\n",
              "        vertical-align: middle;\n",
              "    }\n",
              "\n",
              "    .dataframe tbody tr th {\n",
              "        vertical-align: top;\n",
              "    }\n",
              "\n",
              "    .dataframe thead th {\n",
              "        text-align: right;\n",
              "    }\n",
              "</style>\n",
              "<table border=\"1\" class=\"dataframe\">\n",
              "  <thead>\n",
              "    <tr style=\"text-align: right;\">\n",
              "      <th></th>\n",
              "      <th>procedure_code</th>\n",
              "      <th>description</th>\n",
              "    </tr>\n",
              "  </thead>\n",
              "  <tbody>\n",
              "    <tr>\n",
              "      <th>0</th>\n",
              "      <td>J9045</td>\n",
              "      <td>INJECTION, CARBOPLATIN, 50 MG</td>\n",
              "    </tr>\n",
              "    <tr>\n",
              "      <th>1</th>\n",
              "      <td>80076</td>\n",
              "      <td>HEPATIC FUNCTION PANEL THIS PANEL MUST INCLUDE...</td>\n",
              "    </tr>\n",
              "    <tr>\n",
              "      <th>2</th>\n",
              "      <td>J9171</td>\n",
              "      <td>INJECTION, DOCETAXEL, 1 MG</td>\n",
              "    </tr>\n",
              "    <tr>\n",
              "      <th>3</th>\n",
              "      <td>J0897</td>\n",
              "      <td>INJECTION, DENOSUMAB, 1 MG</td>\n",
              "    </tr>\n",
              "    <tr>\n",
              "      <th>4</th>\n",
              "      <td>J9355</td>\n",
              "      <td>INJECTION, TRASTUZUMAB, EXCLUDES BIOSIMILAR, 1...</td>\n",
              "    </tr>\n",
              "    <tr>\n",
              "      <th>5</th>\n",
              "      <td>99214</td>\n",
              "      <td>OFFICE OR OTHER OUTPATIENT VISIT FOR THE EVALU...</td>\n",
              "    </tr>\n",
              "    <tr>\n",
              "      <th>6</th>\n",
              "      <td>Q0162</td>\n",
              "      <td>ONDANSETRON 1 MG, ORAL, FDA APPROVED PRESCRIPT...</td>\n",
              "    </tr>\n",
              "    <tr>\n",
              "      <th>7</th>\n",
              "      <td>99285</td>\n",
              "      <td>EMERGENCY DEPARTMENT VISIT FOR THE EVALUATION ...</td>\n",
              "    </tr>\n",
              "    <tr>\n",
              "      <th>8</th>\n",
              "      <td>Q4081</td>\n",
              "      <td>INJECTION, EPOETIN ALFA, 100 UNITS (FOR ESRD O...</td>\n",
              "    </tr>\n",
              "    <tr>\n",
              "      <th>9</th>\n",
              "      <td>96401</td>\n",
              "      <td>CHEMOTHERAPY ADMINISTRATION, SUBCUTANEOUS OR I...</td>\n",
              "    </tr>\n",
              "    <tr>\n",
              "      <th>10</th>\n",
              "      <td>J2704</td>\n",
              "      <td>INJECTION, PROPOFOL, 10 MG</td>\n",
              "    </tr>\n",
              "    <tr>\n",
              "      <th>11</th>\n",
              "      <td>88342</td>\n",
              "      <td>IMMUNOHISTOCHEMISTRY OR IMMUNOCYTOCHEMISTRY, P...</td>\n",
              "    </tr>\n",
              "    <tr>\n",
              "      <th>12</th>\n",
              "      <td>88331</td>\n",
              "      <td>PATHOLOGY CONSULTATION DURING SURGERY; FIRST T...</td>\n",
              "    </tr>\n",
              "    <tr>\n",
              "      <th>13</th>\n",
              "      <td>80053</td>\n",
              "      <td>COMPREHENSIVE METABOLIC PANEL THIS PANEL MUST ...</td>\n",
              "    </tr>\n",
              "    <tr>\n",
              "      <th>14</th>\n",
              "      <td>J2270</td>\n",
              "      <td>INJECTION, MORPHINE SULFATE, UP TO 10 MG</td>\n",
              "    </tr>\n",
              "    <tr>\n",
              "      <th>15</th>\n",
              "      <td>85025</td>\n",
              "      <td>BLOOD COUNT; COMPLETE (CBC), AUTOMATED (HGB, H...</td>\n",
              "    </tr>\n",
              "  </tbody>\n",
              "</table>\n",
              "</div>"
            ],
            "text/plain": [
              "   procedure_code                                        description\n",
              "0           J9045                      INJECTION, CARBOPLATIN, 50 MG\n",
              "1           80076  HEPATIC FUNCTION PANEL THIS PANEL MUST INCLUDE...\n",
              "2           J9171                         INJECTION, DOCETAXEL, 1 MG\n",
              "3           J0897                         INJECTION, DENOSUMAB, 1 MG\n",
              "4           J9355  INJECTION, TRASTUZUMAB, EXCLUDES BIOSIMILAR, 1...\n",
              "5           99214  OFFICE OR OTHER OUTPATIENT VISIT FOR THE EVALU...\n",
              "6           Q0162  ONDANSETRON 1 MG, ORAL, FDA APPROVED PRESCRIPT...\n",
              "7           99285  EMERGENCY DEPARTMENT VISIT FOR THE EVALUATION ...\n",
              "8           Q4081  INJECTION, EPOETIN ALFA, 100 UNITS (FOR ESRD O...\n",
              "9           96401  CHEMOTHERAPY ADMINISTRATION, SUBCUTANEOUS OR I...\n",
              "10          J2704                         INJECTION, PROPOFOL, 10 MG\n",
              "11          88342  IMMUNOHISTOCHEMISTRY OR IMMUNOCYTOCHEMISTRY, P...\n",
              "12          88331  PATHOLOGY CONSULTATION DURING SURGERY; FIRST T...\n",
              "13          80053  COMPREHENSIVE METABOLIC PANEL THIS PANEL MUST ...\n",
              "14          J2270           INJECTION, MORPHINE SULFATE, UP TO 10 MG\n",
              "15          85025  BLOOD COUNT; COMPLETE (CBC), AUTOMATED (HGB, H..."
            ]
          },
          "metadata": {
            "tags": []
          },
          "execution_count": 141
        }
      ]
    }
  ]
}